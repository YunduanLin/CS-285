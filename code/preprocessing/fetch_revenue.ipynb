{
 "cells": [
  {
   "cell_type": "code",
   "execution_count": 1,
   "metadata": {},
   "outputs": [],
   "source": [
    "import numpy as np\n",
    "import pandas as pd\n",
    "import requests"
   ]
  },
  {
   "cell_type": "code",
   "execution_count": null,
   "metadata": {},
   "outputs": [],
   "source": [
    "url = \"\"\"https://data.sfgov.org/resource/imvp-dq3v.json?$where=session_start_dt between '2019-12-01T00:00:00' and '2020-12-01T00:00:00' limit 20000000\"\"\"\n",
    "response = requests.get(url)\n",
    "df = pd.DataFrame(response.json())"
   ]
  },
  {
   "cell_type": "code",
   "execution_count": null,
   "metadata": {},
   "outputs": [],
   "source": [
    "df = df[['post_id', 'payment_type', 'session_start_dt', 'session_end_dt', \n",
    "         'meter_event_type', 'gross_paid_amt']]"
   ]
  },
  {
   "cell_type": "code",
   "execution_count": 11,
   "metadata": {},
   "outputs": [
    {
     "name": "stderr",
     "output_type": "stream",
     "text": [
      "/opt/anaconda3/lib/python3.7/site-packages/IPython/core/interactiveshell.py:2785: DtypeWarning: Columns (28,30) have mixed types.Specify dtype option on import or set low_memory=False.\n",
      "  interactivity=interactivity, compiler=compiler, result=result)\n"
     ]
    }
   ],
   "source": [
    "df_meters = pd.read_csv('../../data/Meters/Parking_Meters.csv')\n",
    "l_post = df_meters['POST_ID'].unique()"
   ]
  },
  {
   "cell_type": "code",
   "execution_count": 16,
   "metadata": {},
   "outputs": [],
   "source": [
    "df = df[df['post_id'].isin(l_post)].reset_index(drop=1)"
   ]
  },
  {
   "cell_type": "code",
   "execution_count": 22,
   "metadata": {},
   "outputs": [],
   "source": [
    "df = df.reset_index()\n",
    "df_meters = df_meters.reset_index()"
   ]
  },
  {
   "cell_type": "code",
   "execution_count": 23,
   "metadata": {},
   "outputs": [],
   "source": [
    "df = df.merge(df_meters[['POST_ID', 'BLOCKFACE_ID']], left_on='post_id', right_on='POST_ID')\n",
    "df = df.drop(['POST_ID'], axis=1)"
   ]
  },
  {
   "cell_type": "code",
   "execution_count": 24,
   "metadata": {},
   "outputs": [],
   "source": [
    "df.to_csv('../../../Revenue.csv', index=None)"
   ]
  },
  {
   "cell_type": "code",
   "execution_count": 26,
   "metadata": {},
   "outputs": [
    {
     "data": {
      "text/html": [
       "<div>\n",
       "<style scoped>\n",
       "    .dataframe tbody tr th:only-of-type {\n",
       "        vertical-align: middle;\n",
       "    }\n",
       "\n",
       "    .dataframe tbody tr th {\n",
       "        vertical-align: top;\n",
       "    }\n",
       "\n",
       "    .dataframe thead th {\n",
       "        text-align: right;\n",
       "    }\n",
       "</style>\n",
       "<table border=\"1\" class=\"dataframe\">\n",
       "  <thead>\n",
       "    <tr style=\"text-align: right;\">\n",
       "      <th></th>\n",
       "      <th>post_id</th>\n",
       "      <th>payment_type</th>\n",
       "      <th>session_start_dt</th>\n",
       "      <th>session_end_dt</th>\n",
       "      <th>meter_event_type</th>\n",
       "      <th>gross_paid_amt</th>\n",
       "      <th>BLOCKFACE_ID</th>\n",
       "    </tr>\n",
       "  </thead>\n",
       "  <tbody>\n",
       "    <tr>\n",
       "      <th>0</th>\n",
       "      <td>568-26250</td>\n",
       "      <td>CASH</td>\n",
       "      <td>2019-12-01T01:24:31.000</td>\n",
       "      <td>2019-12-01T01:24:31.000</td>\n",
       "      <td>NS</td>\n",
       "      <td>0.25</td>\n",
       "      <td>568261</td>\n",
       "    </tr>\n",
       "    <tr>\n",
       "      <th>1</th>\n",
       "      <td>568-26250</td>\n",
       "      <td>CREDIT CARD</td>\n",
       "      <td>2019-12-03T09:49:07.000</td>\n",
       "      <td>2019-12-03T10:04:07.000</td>\n",
       "      <td>NS</td>\n",
       "      <td>0.63</td>\n",
       "      <td>568261</td>\n",
       "    </tr>\n",
       "    <tr>\n",
       "      <th>2</th>\n",
       "      <td>568-26250</td>\n",
       "      <td>CREDIT CARD</td>\n",
       "      <td>2019-12-04T12:48:22.000</td>\n",
       "      <td>2019-12-04T13:03:22.000</td>\n",
       "      <td>NS</td>\n",
       "      <td>0.69</td>\n",
       "      <td>568261</td>\n",
       "    </tr>\n",
       "    <tr>\n",
       "      <th>3</th>\n",
       "      <td>568-26250</td>\n",
       "      <td>CASH</td>\n",
       "      <td>2019-12-04T13:25:45.000</td>\n",
       "      <td>2019-12-04T13:36:40.000</td>\n",
       "      <td>NS</td>\n",
       "      <td>0.5</td>\n",
       "      <td>568261</td>\n",
       "    </tr>\n",
       "    <tr>\n",
       "      <th>4</th>\n",
       "      <td>568-26250</td>\n",
       "      <td>CASH</td>\n",
       "      <td>2019-12-04T13:25:56.000</td>\n",
       "      <td>2019-12-04T13:40:56.000</td>\n",
       "      <td>NS</td>\n",
       "      <td>0.65</td>\n",
       "      <td>568261</td>\n",
       "    </tr>\n",
       "    <tr>\n",
       "      <th>...</th>\n",
       "      <td>...</td>\n",
       "      <td>...</td>\n",
       "      <td>...</td>\n",
       "      <td>...</td>\n",
       "      <td>...</td>\n",
       "      <td>...</td>\n",
       "      <td>...</td>\n",
       "    </tr>\n",
       "    <tr>\n",
       "      <th>16958901</th>\n",
       "      <td>845-05310</td>\n",
       "      <td>CREDIT CARD</td>\n",
       "      <td>2020-11-30T09:49:59.000</td>\n",
       "      <td>2020-11-30T10:01:59.000</td>\n",
       "      <td>NS</td>\n",
       "      <td>0.25</td>\n",
       "      <td>845051</td>\n",
       "    </tr>\n",
       "    <tr>\n",
       "      <th>16958902</th>\n",
       "      <td>845-05310</td>\n",
       "      <td>CREDIT CARD</td>\n",
       "      <td>2020-11-30T09:50:54.000</td>\n",
       "      <td>2020-11-30T10:49:54.000</td>\n",
       "      <td>AT</td>\n",
       "      <td>1</td>\n",
       "      <td>845051</td>\n",
       "    </tr>\n",
       "    <tr>\n",
       "      <th>16958903</th>\n",
       "      <td>845-05310</td>\n",
       "      <td>CREDIT CARD</td>\n",
       "      <td>2020-11-30T13:05:54.000</td>\n",
       "      <td>2020-11-30T14:29:54.000</td>\n",
       "      <td>NS</td>\n",
       "      <td>1.75</td>\n",
       "      <td>845051</td>\n",
       "    </tr>\n",
       "    <tr>\n",
       "      <th>16958904</th>\n",
       "      <td>845-05310</td>\n",
       "      <td>CREDIT CARD</td>\n",
       "      <td>2020-11-30T13:06:31.000</td>\n",
       "      <td>2020-11-30T14:41:30.000</td>\n",
       "      <td>AT</td>\n",
       "      <td>0.25</td>\n",
       "      <td>845051</td>\n",
       "    </tr>\n",
       "    <tr>\n",
       "      <th>16958905</th>\n",
       "      <td>845-05310</td>\n",
       "      <td>CREDIT CARD</td>\n",
       "      <td>2020-11-30T13:08:51.000</td>\n",
       "      <td>2020-11-30T14:53:51.000</td>\n",
       "      <td>AT</td>\n",
       "      <td>0.25</td>\n",
       "      <td>845051</td>\n",
       "    </tr>\n",
       "  </tbody>\n",
       "</table>\n",
       "<p>16958906 rows × 7 columns</p>\n",
       "</div>"
      ],
      "text/plain": [
       "            post_id payment_type         session_start_dt  \\\n",
       "0         568-26250         CASH  2019-12-01T01:24:31.000   \n",
       "1         568-26250  CREDIT CARD  2019-12-03T09:49:07.000   \n",
       "2         568-26250  CREDIT CARD  2019-12-04T12:48:22.000   \n",
       "3         568-26250         CASH  2019-12-04T13:25:45.000   \n",
       "4         568-26250         CASH  2019-12-04T13:25:56.000   \n",
       "...             ...          ...                      ...   \n",
       "16958901  845-05310  CREDIT CARD  2020-11-30T09:49:59.000   \n",
       "16958902  845-05310  CREDIT CARD  2020-11-30T09:50:54.000   \n",
       "16958903  845-05310  CREDIT CARD  2020-11-30T13:05:54.000   \n",
       "16958904  845-05310  CREDIT CARD  2020-11-30T13:06:31.000   \n",
       "16958905  845-05310  CREDIT CARD  2020-11-30T13:08:51.000   \n",
       "\n",
       "                   session_end_dt meter_event_type gross_paid_amt  \\\n",
       "0         2019-12-01T01:24:31.000               NS           0.25   \n",
       "1         2019-12-03T10:04:07.000               NS           0.63   \n",
       "2         2019-12-04T13:03:22.000               NS           0.69   \n",
       "3         2019-12-04T13:36:40.000               NS            0.5   \n",
       "4         2019-12-04T13:40:56.000               NS           0.65   \n",
       "...                           ...              ...            ...   \n",
       "16958901  2020-11-30T10:01:59.000               NS           0.25   \n",
       "16958902  2020-11-30T10:49:54.000               AT              1   \n",
       "16958903  2020-11-30T14:29:54.000               NS           1.75   \n",
       "16958904  2020-11-30T14:41:30.000               AT           0.25   \n",
       "16958905  2020-11-30T14:53:51.000               AT           0.25   \n",
       "\n",
       "          BLOCKFACE_ID  \n",
       "0               568261  \n",
       "1               568261  \n",
       "2               568261  \n",
       "3               568261  \n",
       "4               568261  \n",
       "...                ...  \n",
       "16958901        845051  \n",
       "16958902        845051  \n",
       "16958903        845051  \n",
       "16958904        845051  \n",
       "16958905        845051  \n",
       "\n",
       "[16958906 rows x 7 columns]"
      ]
     },
     "execution_count": 26,
     "metadata": {},
     "output_type": "execute_result"
    }
   ],
   "source": [
    "df"
   ]
  }
 ],
 "metadata": {
  "kernelspec": {
   "display_name": "Python 3",
   "language": "python",
   "name": "python3"
  },
  "language_info": {
   "codemirror_mode": {
    "name": "ipython",
    "version": 3
   },
   "file_extension": ".py",
   "mimetype": "text/x-python",
   "name": "python",
   "nbconvert_exporter": "python",
   "pygments_lexer": "ipython3",
   "version": "3.7.6"
  }
 },
 "nbformat": 4,
 "nbformat_minor": 4
}
