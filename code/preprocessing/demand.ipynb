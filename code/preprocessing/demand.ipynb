{
 "cells": [
  {
   "cell_type": "code",
   "execution_count": 1,
   "metadata": {},
   "outputs": [],
   "source": [
    "import numpy as np\n",
    "import pandas as pd\n",
    "from datetime import datetime\n",
    "import matplotlib.pyplot as plt"
   ]
  },
  {
   "cell_type": "code",
   "execution_count": 2,
   "metadata": {},
   "outputs": [],
   "source": [
    "df = pd.read_csv('../../../Revenue.csv')"
   ]
  },
  {
   "cell_type": "markdown",
   "metadata": {},
   "source": [
    "### 1) EDA"
   ]
  },
  {
   "cell_type": "code",
   "execution_count": 3,
   "metadata": {},
   "outputs": [],
   "source": [
    "before = df[(df['session_start_dt'].str.contains(\"2019\")) \n",
    "                   | (df['session_start_dt'].str.contains(\"2020-01\")) \n",
    "                   | (df['session_start_dt'].str.contains(\"2020-02\"))]\n",
    "after = df[(~df['session_start_dt'].str.contains(\"2019\")) \n",
    "                   & (~df['session_start_dt'].str.contains(\"2020-01\")) \n",
    "                   & (~df['session_start_dt'].str.contains(\"2020-02\"))]"
   ]
  },
  {
   "cell_type": "code",
   "execution_count": 4,
   "metadata": {},
   "outputs": [],
   "source": [
    "last12 = df[(df['session_start_dt'].str.contains(\"2019\"))]\n",
    "this1 = df[(df['session_start_dt'].str.contains(\"2020-01\"))]\n",
    "this2 = df[(df['session_start_dt'].str.contains(\"2020-02\"))]\n",
    "this3 = df[(df['session_start_dt'].str.contains(\"2020-03\"))]\n",
    "this4 = df[(df['session_start_dt'].str.contains(\"2020-04\"))]\n",
    "this5 = df[(df['session_start_dt'].str.contains(\"2020-05\"))]\n",
    "this6 = df[(df['session_start_dt'].str.contains(\"2020-06\"))]\n",
    "this7 = df[(df['session_start_dt'].str.contains(\"2020-07\"))]\n",
    "this8 = df[(df['session_start_dt'].str.contains(\"2020-08\"))]\n",
    "this9 = df[(df['session_start_dt'].str.contains(\"2020-09\"))]\n",
    "this10 = df[(df['session_start_dt'].str.contains(\"2020-10\"))]\n",
    "this11 = df[(df['session_start_dt'].str.contains(\"2020-11\"))]\n"
   ]
  },
  {
   "cell_type": "code",
   "execution_count": 5,
   "metadata": {},
   "outputs": [
    {
     "data": {
      "text/plain": [
       "([<matplotlib.axis.XTick at 0x7f807ca51e10>,\n",
       "  <matplotlib.axis.XTick at 0x7f807ca514d0>,\n",
       "  <matplotlib.axis.XTick at 0x7f8068d14b50>,\n",
       "  <matplotlib.axis.XTick at 0x7f7eec8d7350>,\n",
       "  <matplotlib.axis.XTick at 0x7f7eec8d78d0>,\n",
       "  <matplotlib.axis.XTick at 0x7f7eec8d7e50>,\n",
       "  <matplotlib.axis.XTick at 0x7f7eec8da450>,\n",
       "  <matplotlib.axis.XTick at 0x7f7eec8da9d0>,\n",
       "  <matplotlib.axis.XTick at 0x7f7eec8da490>,\n",
       "  <matplotlib.axis.XTick at 0x7f7eec8d7b90>,\n",
       "  <matplotlib.axis.XTick at 0x7f7eec8df310>,\n",
       "  <matplotlib.axis.XTick at 0x7f7eec8df8d0>],\n",
       " <a list of 12 Text xticklabel objects>)"
      ]
     },
     "execution_count": 5,
     "metadata": {},
     "output_type": "execute_result"
    },
    {
     "data": {
      "image/png": "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\n",
      "text/plain": [
       "<Figure size 432x288 with 1 Axes>"
      ]
     },
     "metadata": {
      "needs_background": "light"
     },
     "output_type": "display_data"
    }
   ],
   "source": [
    "plt.plot([len(last12), len(this1), len(this2), len(this3), len(this4), len(this5), len(this6), len(this7), len(this8), len(this9), len(this10), len(this11)])\n",
    "plt.xticks(np.arange(12), (12,1,2,3,4,5,6,7,8,9,10,11))"
   ]
  },
  {
   "cell_type": "markdown",
   "metadata": {},
   "source": [
    "### 2) Demand: Time slot (per half an hour) & Covid stage"
   ]
  },
  {
   "cell_type": "code",
<<<<<<< HEAD
   "execution_count": 5,
   "metadata": {},
   "outputs": [],
   "source": [
    "df['dt'] = df['session_start_dt'].apply(lambda x: datetime.strptime(x[:19], '%Y-%m-%dT%H:%M:%S'))"
   ]
  },
  {
   "cell_type": "code",
   "execution_count": 6,
   "metadata": {},
   "outputs": [],
   "source": [
    "df['slot'] = df['dt'].apply(lambda x: int(x.hour) + (0.5 if int(x.minute) < 30 else 1))"
   ]
  },
  {
   "cell_type": "code",
   "execution_count": 7,
=======
   "execution_count": 6,
>>>>>>> 90dd263849a2e3ecf0fb8cfd619623471ffc0f67
   "metadata": {},
   "outputs": [],
   "source": [
    "def stage(dt):\n",
    "    if dt < datetime(2020, 3, 15): \n",
    "        return 0 # before\n",
    "    elif (dt >= datetime(2020, 3, 15)) & (dt < datetime(2020,5, 17)):\n",
    "        return 1 # shutdown\n",
    "    elif (dt >= datetime(2020, 5, 17)) & (dt < datetime(2020,7, 17)):\n",
    "        return 2 # reopen \n",
    "    elif (dt >= datetime(2020, 7, 17)) & (dt < datetime(2020, 9, 30)):\n",
    "        return 3 # closed_due_to_state_re\n",
    "    elif (dt >= datetime(2020, 9, 30)) & (dt < datetime(2020, 10, 20)):\n",
    "        return 4 # orange\n",
    "    elif (dt >= datetime(2020, 10, 20)) & (dt < datetime(2020, 11, 13)):\n",
    "        return 5 # yellow\n",
    "    elif dt >= datetime(2020, 11, 13):\n",
    "        return 6 # rollback"
   ]
  },
  {
   "cell_type": "code",
<<<<<<< HEAD
   "execution_count": 8,
=======
   "execution_count": 7,
>>>>>>> 90dd263849a2e3ecf0fb8cfd619623471ffc0f67
   "metadata": {},
   "outputs": [],
   "source": [
    "df['dt'] = df['session_start_dt'].apply(lambda x: datetime.strptime(x[:19], '%Y-%m-%dT%H:%M:%S'))\n",
    "df['date'] = df['dt'].dt.date\n",
    "df['slot'] = df['dt'].apply(lambda x: int(x.hour) * 2 + (1 if int(x.minute) < 30 else 2) - 1)\n",
    "df['stage'] = df['dt'].apply(lambda x: stage(x))"
   ]
  },
  {
   "cell_type": "code",
   "execution_count": 8,
   "metadata": {},
   "outputs": [
    {
     "data": {
      "text/html": [
       "<div>\n",
       "<style scoped>\n",
       "    .dataframe tbody tr th:only-of-type {\n",
       "        vertical-align: middle;\n",
       "    }\n",
       "\n",
       "    .dataframe tbody tr th {\n",
       "        vertical-align: top;\n",
       "    }\n",
       "\n",
       "    .dataframe thead th {\n",
       "        text-align: right;\n",
       "    }\n",
       "</style>\n",
       "<table border=\"1\" class=\"dataframe\">\n",
       "  <thead>\n",
       "    <tr style=\"text-align: right;\">\n",
       "      <th></th>\n",
       "      <th>index</th>\n",
       "      <th>gross_paid_amt</th>\n",
       "      <th>BLOCKFACE_ID</th>\n",
       "      <th>slot</th>\n",
       "      <th>stage</th>\n",
       "    </tr>\n",
       "  </thead>\n",
       "  <tbody>\n",
       "    <tr>\n",
       "      <th>count</th>\n",
       "      <td>1.379242e+07</td>\n",
       "      <td>1.379242e+07</td>\n",
       "      <td>1.379242e+07</td>\n",
       "      <td>1.379242e+07</td>\n",
       "      <td>1.379242e+07</td>\n",
       "    </tr>\n",
       "    <tr>\n",
       "      <th>mean</th>\n",
       "      <td>6.896209e+06</td>\n",
       "      <td>2.038540e+00</td>\n",
       "      <td>4.718568e+05</td>\n",
       "      <td>2.568958e+01</td>\n",
       "      <td>1.926556e+00</td>\n",
       "    </tr>\n",
       "    <tr>\n",
       "      <th>std</th>\n",
       "      <td>3.981529e+06</td>\n",
       "      <td>2.708955e+00</td>\n",
       "      <td>1.812418e+05</td>\n",
       "      <td>5.536974e+00</td>\n",
       "      <td>1.931886e+00</td>\n",
       "    </tr>\n",
       "    <tr>\n",
       "      <th>min</th>\n",
       "      <td>0.000000e+00</td>\n",
       "      <td>0.000000e+00</td>\n",
       "      <td>1.020210e+05</td>\n",
       "      <td>0.000000e+00</td>\n",
       "      <td>0.000000e+00</td>\n",
       "    </tr>\n",
       "    <tr>\n",
       "      <th>25%</th>\n",
       "      <td>3.448104e+06</td>\n",
       "      <td>4.900000e-01</td>\n",
       "      <td>3.521310e+05</td>\n",
       "      <td>2.100000e+01</td>\n",
       "      <td>0.000000e+00</td>\n",
       "    </tr>\n",
       "    <tr>\n",
       "      <th>50%</th>\n",
       "      <td>6.896209e+06</td>\n",
       "      <td>1.000000e+00</td>\n",
       "      <td>4.701110e+05</td>\n",
       "      <td>2.600000e+01</td>\n",
       "      <td>2.000000e+00</td>\n",
       "    </tr>\n",
       "    <tr>\n",
       "      <th>75%</th>\n",
       "      <td>1.034431e+07</td>\n",
       "      <td>2.750000e+00</td>\n",
       "      <td>6.061510e+05</td>\n",
       "      <td>3.000000e+01</td>\n",
       "      <td>3.000000e+00</td>\n",
       "    </tr>\n",
       "    <tr>\n",
       "      <th>max</th>\n",
       "      <td>1.379242e+07</td>\n",
       "      <td>7.150000e+01</td>\n",
       "      <td>8.780020e+05</td>\n",
       "      <td>4.700000e+01</td>\n",
       "      <td>6.000000e+00</td>\n",
       "    </tr>\n",
       "  </tbody>\n",
       "</table>\n",
       "</div>"
      ],
      "text/plain": [
       "              index  gross_paid_amt  BLOCKFACE_ID          slot         stage\n",
       "count  1.379242e+07    1.379242e+07  1.379242e+07  1.379242e+07  1.379242e+07\n",
       "mean   6.896209e+06    2.038540e+00  4.718568e+05  2.568958e+01  1.926556e+00\n",
       "std    3.981529e+06    2.708955e+00  1.812418e+05  5.536974e+00  1.931886e+00\n",
       "min    0.000000e+00    0.000000e+00  1.020210e+05  0.000000e+00  0.000000e+00\n",
       "25%    3.448104e+06    4.900000e-01  3.521310e+05  2.100000e+01  0.000000e+00\n",
       "50%    6.896209e+06    1.000000e+00  4.701110e+05  2.600000e+01  2.000000e+00\n",
       "75%    1.034431e+07    2.750000e+00  6.061510e+05  3.000000e+01  3.000000e+00\n",
       "max    1.379242e+07    7.150000e+01  8.780020e+05  4.700000e+01  6.000000e+00"
      ]
     },
     "execution_count": 8,
     "metadata": {},
     "output_type": "execute_result"
    }
   ],
   "source": [
    "df.describe()"
   ]
  },
  {
   "cell_type": "code",
   "execution_count": 9,
   "metadata": {},
   "outputs": [],
   "source": [
    "for_demand_date = df.groupby(['BLOCKFACE_ID','stage','date','slot']).count()['gross_paid_amt'].reset_index()\n",
    "for_demand_date['count'] = for_demand_date['gross_paid_amt']"
   ]
  },
  {
   "cell_type": "code",
   "execution_count": 10,
   "metadata": {},
   "outputs": [],
   "source": [
    "for_demand = pd.DataFrame()\n",
    "for_demand['mean'] = for_demand_date.groupby(['BLOCKFACE_ID','stage','slot']).mean()['count']\n",
    "for_demand['std'] = for_demand_date.groupby(['BLOCKFACE_ID','stage','slot']).std()['count']\n",
    "for_demand = for_demand.reset_index()"
   ]
  },
  {
   "cell_type": "code",
   "execution_count": 11,
   "metadata": {},
   "outputs": [],
   "source": [
    "df_block = pd.read_csv('../../data/Meters/Meter_block.csv')"
   ]
  },
  {
   "cell_type": "code",
   "execution_count": 12,
   "metadata": {},
   "outputs": [],
   "source": [
    "b = []\n",
    "st = []\n",
    "sl = []\n",
    "for block_ in list(df_block['BLOCKFACE_ID'].unique()):\n",
    "    for stage_ in range(7):\n",
    "        for slot_ in range(48):\n",
    "            b.append(block_)\n",
    "            st.append(stage_)\n",
    "            sl.append(slot_)\n",
    "fakedata = {'BLOCKFACE_ID':b,\n",
    "           'stage':st,\n",
    "           'slot':sl,\n",
    "           'mean':[0]*7*48*len(df_block['BLOCKFACE_ID'].unique()),\n",
    "           'std':[0]*7*48*len(df_block['BLOCKFACE_ID'].unique())}\n",
    "fakedf = pd.DataFrame(fakedata)"
   ]
  },
  {
   "cell_type": "code",
   "execution_count": 13,
   "metadata": {},
   "outputs": [],
   "source": [
    "for_demand_agg = pd.concat([fakedf,for_demand[['BLOCKFACE_ID','stage','slot', 'mean','std']]])\n",
    "for_demand_agg = for_demand_agg.groupby(['BLOCKFACE_ID', 'stage', 'slot']).sum()\n",
    "for_demand_agg['std'] = for_demand_agg['std'].clip(lower=0.01)\n",
    "for_demand_agg = for_demand_agg.reset_index().sort_values(['BLOCKFACE_ID','stage','slot'])"
   ]
  },
  {
   "cell_type": "code",
   "execution_count": 14,
   "metadata": {},
   "outputs": [
    {
     "data": {
      "text/html": [
       "<div>\n",
       "<style scoped>\n",
       "    .dataframe tbody tr th:only-of-type {\n",
       "        vertical-align: middle;\n",
       "    }\n",
       "\n",
       "    .dataframe tbody tr th {\n",
       "        vertical-align: top;\n",
       "    }\n",
       "\n",
       "    .dataframe thead th {\n",
       "        text-align: right;\n",
       "    }\n",
       "</style>\n",
       "<table border=\"1\" class=\"dataframe\">\n",
       "  <thead>\n",
       "    <tr style=\"text-align: right;\">\n",
       "      <th></th>\n",
       "      <th>BLOCKFACE_ID</th>\n",
       "      <th>stage</th>\n",
       "      <th>slot</th>\n",
       "      <th>mean</th>\n",
       "      <th>std</th>\n",
       "    </tr>\n",
       "  </thead>\n",
       "  <tbody>\n",
       "    <tr>\n",
       "      <th>count</th>\n",
       "      <td>849408.000000</td>\n",
       "      <td>849408.000000</td>\n",
       "      <td>849408.000000</td>\n",
       "      <td>849408.000000</td>\n",
       "      <td>849408.000000</td>\n",
       "    </tr>\n",
       "    <tr>\n",
       "      <th>mean</th>\n",
       "      <td>459420.835047</td>\n",
       "      <td>3.000000</td>\n",
       "      <td>23.500000</td>\n",
       "      <td>0.708041</td>\n",
       "      <td>0.321896</td>\n",
       "    </tr>\n",
       "    <tr>\n",
       "      <th>std</th>\n",
       "      <td>188077.862768</td>\n",
       "      <td>2.000001</td>\n",
       "      <td>13.853407</td>\n",
       "      <td>1.039012</td>\n",
       "      <td>0.561257</td>\n",
       "    </tr>\n",
       "    <tr>\n",
       "      <th>min</th>\n",
       "      <td>0.000000</td>\n",
       "      <td>0.000000</td>\n",
       "      <td>0.000000</td>\n",
       "      <td>0.000000</td>\n",
       "      <td>0.010000</td>\n",
       "    </tr>\n",
       "    <tr>\n",
       "      <th>25%</th>\n",
       "      <td>336111.750000</td>\n",
       "      <td>1.000000</td>\n",
       "      <td>11.750000</td>\n",
       "      <td>0.000000</td>\n",
       "      <td>0.010000</td>\n",
       "    </tr>\n",
       "    <tr>\n",
       "      <th>50%</th>\n",
       "      <td>446021.500000</td>\n",
       "      <td>3.000000</td>\n",
       "      <td>23.500000</td>\n",
       "      <td>0.000000</td>\n",
       "      <td>0.010000</td>\n",
       "    </tr>\n",
       "    <tr>\n",
       "      <th>75%</th>\n",
       "      <td>606231.250000</td>\n",
       "      <td>5.000000</td>\n",
       "      <td>35.250000</td>\n",
       "      <td>1.315789</td>\n",
       "      <td>0.522233</td>\n",
       "    </tr>\n",
       "    <tr>\n",
       "      <th>max</th>\n",
       "      <td>878002.000000</td>\n",
       "      <td>6.000000</td>\n",
       "      <td>47.000000</td>\n",
       "      <td>18.534091</td>\n",
       "      <td>18.273713</td>\n",
       "    </tr>\n",
       "  </tbody>\n",
       "</table>\n",
       "</div>"
      ],
      "text/plain": [
       "        BLOCKFACE_ID          stage           slot           mean  \\\n",
       "count  849408.000000  849408.000000  849408.000000  849408.000000   \n",
       "mean   459420.835047       3.000000      23.500000       0.708041   \n",
       "std    188077.862768       2.000001      13.853407       1.039012   \n",
       "min         0.000000       0.000000       0.000000       0.000000   \n",
       "25%    336111.750000       1.000000      11.750000       0.000000   \n",
       "50%    446021.500000       3.000000      23.500000       0.000000   \n",
       "75%    606231.250000       5.000000      35.250000       1.315789   \n",
       "max    878002.000000       6.000000      47.000000      18.534091   \n",
       "\n",
       "                 std  \n",
       "count  849408.000000  \n",
       "mean        0.321896  \n",
       "std         0.561257  \n",
       "min         0.010000  \n",
       "25%         0.010000  \n",
       "50%         0.010000  \n",
       "75%         0.522233  \n",
       "max        18.273713  "
      ]
     },
     "execution_count": 14,
     "metadata": {},
     "output_type": "execute_result"
    }
   ],
   "source": [
    "for_demand_agg.describe()"
   ]
  },
  {
   "cell_type": "code",
   "execution_count": 15,
   "metadata": {},
   "outputs": [],
   "source": [
    "for_demand_agg.to_csv('../../data/demand.csv', index=None)"
   ]
  },
  {
   "cell_type": "markdown",
   "metadata": {},
   "source": [
    "### Time to park"
   ]
  },
  {
   "cell_type": "code",
   "execution_count": 3,
   "metadata": {},
   "outputs": [],
   "source": [
    "df['dt_e'] = df['session_end_dt'].apply(lambda x: datetime.strptime(x[:19], '%Y-%m-%dT%H:%M:%S'))"
   ]
  },
  {
   "cell_type": "code",
   "execution_count": 9,
   "metadata": {},
   "outputs": [],
   "source": [
    "df['time_diff'] = df['dt_e'] - df['dt']"
   ]
  },
  {
   "cell_type": "code",
   "execution_count": 13,
   "metadata": {},
   "outputs": [
    {
     "data": {
      "text/plain": [
       "900.0"
      ]
     },
     "execution_count": 13,
     "metadata": {},
     "output_type": "execute_result"
    }
   ],
   "source": [
    "df['time_diff'][1].total_seconds()"
   ]
  },
  {
   "cell_type": "code",
   "execution_count": 15,
   "metadata": {},
   "outputs": [
    {
     "data": {
      "text/plain": [
       "BLOCKFACE_ID  stage                   slot\n",
       "102021        before                  8.5           00:49:51\n",
       "                                      9.0    01:01:34.611111\n",
       "                                      9.5    00:45:54.076923\n",
       "                                      10.0   00:58:48.652173\n",
       "                                      10.5   00:49:31.676470\n",
       "                                      11.0   00:51:24.444444\n",
       "                                      11.5   00:43:17.095238\n",
       "                                      12.0   00:49:44.125000\n",
       "                                      12.5   00:51:08.731707\n",
       "                                      13.0   01:01:05.419354\n",
       "                                      13.5   00:56:19.320000\n",
       "                                      14.0   00:53:38.200000\n",
       "                                      14.5   00:34:52.954545\n",
       "                                      15.0   00:46:58.484848\n",
       "                                      15.5   01:07:30.518518\n",
       "                                      16.0   00:57:38.652173\n",
       "                                      16.5   00:49:42.800000\n",
       "                                      17.0   00:52:06.888888\n",
       "                                      17.5   00:35:33.225806\n",
       "                                      18.0   00:21:07.800000\n",
       "              closed_due_to_state_re  7.5           03:37:49\n",
       "                                      8.0           03:13:45\n",
       "                                      9.0    01:01:53.750000\n",
       "                                      9.5    00:59:05.480000\n",
       "                                      10.0   00:52:26.350000\n",
       "                                      10.5   00:37:28.750000\n",
       "                                      11.0   00:49:49.739130\n",
       "                                      11.5   00:46:28.066666\n",
       "                                      12.0   00:45:44.384615\n",
       "                                      12.5   00:41:48.548387\n",
       "                                                   ...      \n",
       "878002        shutdown                20.0          01:00:00\n",
       "                                      20.5          01:00:00\n",
       "                                      21.0          01:00:00\n",
       "              yellow                  6.0    07:26:12.272727\n",
       "                                      6.5    07:34:15.040816\n",
       "                                      7.0    06:09:51.769230\n",
       "                                      7.5    06:26:25.129032\n",
       "                                      8.0    05:52:28.333333\n",
       "                                      8.5           06:02:17\n",
       "                                      9.0    02:32:19.923076\n",
       "                                      9.5    03:15:02.400000\n",
       "                                      10.0   01:42:02.444444\n",
       "                                      10.5   02:25:58.500000\n",
       "                                      11.0   02:10:34.500000\n",
       "                                      11.5   02:15:15.750000\n",
       "                                      12.0   01:40:02.750000\n",
       "                                      12.5   01:45:43.214285\n",
       "                                      13.0   01:12:18.869565\n",
       "                                      13.5   01:24:43.400000\n",
       "                                      14.0          01:29:12\n",
       "                                      14.5   01:43:34.666666\n",
       "                                      15.0   01:21:19.777777\n",
       "                                      15.5   01:17:01.727272\n",
       "                                      16.0   01:20:46.400000\n",
       "                                      16.5   01:13:42.857142\n",
       "                                      17.0          01:39:49\n",
       "                                      17.5   01:10:50.333333\n",
       "                                      18.0          01:57:00\n",
       "                                      19.0          02:54:00\n",
       "                                      21.0          01:30:00\n",
       "Name: time_diff, Length: 404186, dtype: timedelta64[ns]"
      ]
     },
     "execution_count": 15,
     "metadata": {},
     "output_type": "execute_result"
    }
   ],
   "source": [
    "df.groupby(['BLOCKFACE_ID', 'stage', 'slot'])['time_diff'].agg(lambda x: x.mean())"
   ]
  },
  {
   "cell_type": "markdown",
   "metadata": {},
   "source": [
    "### Naive time to park model"
   ]
  },
  {
   "cell_type": "code",
   "execution_count": 16,
   "metadata": {},
   "outputs": [],
   "source": [
    "mean_parking_time = df.groupby(['BLOCKFACE_ID'])['time_diff'].agg(lambda x: x.mean())"
   ]
  },
  {
   "cell_type": "code",
   "execution_count": 22,
   "metadata": {},
   "outputs": [
    {
     "name": "stderr",
     "output_type": "stream",
     "text": [
      "/Users/apple/.local/lib/python3.6/site-packages/IPython/core/interactiveshell.py:2785: DtypeWarning: Columns (28,30) have mixed types. Specify dtype option on import or set low_memory=False.\n",
      "  interactivity=interactivity, compiler=compiler, result=result)\n"
     ]
    }
   ],
   "source": [
    "meter = pd.read_csv('../../data/Meters/Parking_Meters.csv')"
   ]
  },
  {
   "cell_type": "code",
   "execution_count": 23,
   "metadata": {},
   "outputs": [
    {
     "data": {
      "text/html": [
       "<div>\n",
       "<style scoped>\n",
       "    .dataframe tbody tr th:only-of-type {\n",
       "        vertical-align: middle;\n",
       "    }\n",
       "\n",
       "    .dataframe tbody tr th {\n",
       "        vertical-align: top;\n",
       "    }\n",
       "\n",
       "    .dataframe thead th {\n",
       "        text-align: right;\n",
       "    }\n",
       "</style>\n",
       "<table border=\"1\" class=\"dataframe\">\n",
       "  <thead>\n",
       "    <tr style=\"text-align: right;\">\n",
       "      <th></th>\n",
       "      <th>OBJECTID</th>\n",
       "      <th>PARKING_SPACE_ID</th>\n",
       "      <th>POST_ID</th>\n",
       "      <th>MS_PAY_STATION_ID</th>\n",
       "      <th>MS_SPACE_NUM</th>\n",
       "      <th>SENSOR_FLAG</th>\n",
       "      <th>ON_OFFSTREET_TYPE</th>\n",
       "      <th>OSP_ID</th>\n",
       "      <th>JURISDICTION</th>\n",
       "      <th>PM_DISTRICT_ID</th>\n",
       "      <th>...</th>\n",
       "      <th>NFC_KEY</th>\n",
       "      <th>SPT_CODE</th>\n",
       "      <th>COLLECTION_ROUTE_DESC</th>\n",
       "      <th>COLLECTION_SUBROUTE_DESC</th>\n",
       "      <th>shape</th>\n",
       "      <th>Neighborhoods</th>\n",
       "      <th>SF Find Neighborhoods</th>\n",
       "      <th>Current Police Districts</th>\n",
       "      <th>Current Supervisor Districts</th>\n",
       "      <th>Analysis Neighborhoods</th>\n",
       "    </tr>\n",
       "  </thead>\n",
       "  <tbody>\n",
       "    <tr>\n",
       "      <th>0</th>\n",
       "      <td>33521</td>\n",
       "      <td>132627</td>\n",
       "      <td>818-01520</td>\n",
       "      <td>-</td>\n",
       "      <td>0</td>\n",
       "      <td>Y</td>\n",
       "      <td>ON</td>\n",
       "      <td>0</td>\n",
       "      <td>PORT</td>\n",
       "      <td>2</td>\n",
       "      <td>...</td>\n",
       "      <td>NaN</td>\n",
       "      <td>NaN</td>\n",
       "      <td>NaN</td>\n",
       "      <td>NaN</td>\n",
       "      <td>POINT (-122.389114 37.784286)</td>\n",
       "      <td>31</td>\n",
       "      <td>31</td>\n",
       "      <td>1</td>\n",
       "      <td>10</td>\n",
       "      <td>8</td>\n",
       "    </tr>\n",
       "    <tr>\n",
       "      <th>1</th>\n",
       "      <td>33670</td>\n",
       "      <td>131615</td>\n",
       "      <td>831-04060</td>\n",
       "      <td>-</td>\n",
       "      <td>0</td>\n",
       "      <td>Y</td>\n",
       "      <td>ON</td>\n",
       "      <td>0</td>\n",
       "      <td>PORT</td>\n",
       "      <td>2</td>\n",
       "      <td>...</td>\n",
       "      <td>NaN</td>\n",
       "      <td>NaN</td>\n",
       "      <td>NaN</td>\n",
       "      <td>NaN</td>\n",
       "      <td>POINT (-122.388504 37.789272)</td>\n",
       "      <td>30</td>\n",
       "      <td>30</td>\n",
       "      <td>1</td>\n",
       "      <td>10</td>\n",
       "      <td>8</td>\n",
       "    </tr>\n",
       "    <tr>\n",
       "      <th>2</th>\n",
       "      <td>33707</td>\n",
       "      <td>131649</td>\n",
       "      <td>561-02041</td>\n",
       "      <td>561-02040</td>\n",
       "      <td>1</td>\n",
       "      <td>N</td>\n",
       "      <td>ON</td>\n",
       "      <td>0</td>\n",
       "      <td>SFMTA</td>\n",
       "      <td>1</td>\n",
       "      <td>...</td>\n",
       "      <td>NaN</td>\n",
       "      <td>NaN</td>\n",
       "      <td>NaN</td>\n",
       "      <td>NaN</td>\n",
       "      <td>POINT (-122.39328 37.790424)</td>\n",
       "      <td>108</td>\n",
       "      <td>108</td>\n",
       "      <td>1</td>\n",
       "      <td>10</td>\n",
       "      <td>8</td>\n",
       "    </tr>\n",
       "    <tr>\n",
       "      <th>3</th>\n",
       "      <td>33848</td>\n",
       "      <td>132817</td>\n",
       "      <td>561-03160</td>\n",
       "      <td>-</td>\n",
       "      <td>0</td>\n",
       "      <td>N</td>\n",
       "      <td>ON</td>\n",
       "      <td>0</td>\n",
       "      <td>SFMTA</td>\n",
       "      <td>2</td>\n",
       "      <td>...</td>\n",
       "      <td>3SP5</td>\n",
       "      <td>NaN</td>\n",
       "      <td>NaN</td>\n",
       "      <td>NaN</td>\n",
       "      <td>POINT (-122.39142 37.788933)</td>\n",
       "      <td>30</td>\n",
       "      <td>30</td>\n",
       "      <td>1</td>\n",
       "      <td>10</td>\n",
       "      <td>8</td>\n",
       "    </tr>\n",
       "    <tr>\n",
       "      <th>4</th>\n",
       "      <td>33895</td>\n",
       "      <td>132860</td>\n",
       "      <td>658-01430</td>\n",
       "      <td>-</td>\n",
       "      <td>0</td>\n",
       "      <td>E</td>\n",
       "      <td>ON</td>\n",
       "      <td>0</td>\n",
       "      <td>SFMTA</td>\n",
       "      <td>1</td>\n",
       "      <td>...</td>\n",
       "      <td>4RJ4</td>\n",
       "      <td>NaN</td>\n",
       "      <td>Folsom St: Unit-800 1st:</td>\n",
       "      <td>Spear Unit-300</td>\n",
       "      <td>POINT (-122.39334 37.792076)</td>\n",
       "      <td>108</td>\n",
       "      <td>108</td>\n",
       "      <td>1</td>\n",
       "      <td>10</td>\n",
       "      <td>8</td>\n",
       "    </tr>\n",
       "  </tbody>\n",
       "</table>\n",
       "<p>5 rows × 45 columns</p>\n",
       "</div>"
      ],
      "text/plain": [
       "   OBJECTID  PARKING_SPACE_ID    POST_ID MS_PAY_STATION_ID  MS_SPACE_NUM  \\\n",
       "0     33521            132627  818-01520                 -             0   \n",
       "1     33670            131615  831-04060                 -             0   \n",
       "2     33707            131649  561-02041         561-02040             1   \n",
       "3     33848            132817  561-03160                 -             0   \n",
       "4     33895            132860  658-01430                 -             0   \n",
       "\n",
       "  SENSOR_FLAG ON_OFFSTREET_TYPE  OSP_ID JURISDICTION  PM_DISTRICT_ID  ...  \\\n",
       "0           Y                ON       0         PORT               2  ...   \n",
       "1           Y                ON       0         PORT               2  ...   \n",
       "2           N                ON       0        SFMTA               1  ...   \n",
       "3           N                ON       0        SFMTA               2  ...   \n",
       "4           E                ON       0        SFMTA               1  ...   \n",
       "\n",
       "   NFC_KEY SPT_CODE     COLLECTION_ROUTE_DESC COLLECTION_SUBROUTE_DESC  \\\n",
       "0      NaN      NaN                       NaN                      NaN   \n",
       "1      NaN      NaN                       NaN                      NaN   \n",
       "2      NaN      NaN                       NaN                      NaN   \n",
       "3     3SP5      NaN                       NaN                      NaN   \n",
       "4     4RJ4      NaN  Folsom St: Unit-800 1st:           Spear Unit-300   \n",
       "\n",
       "                           shape Neighborhoods SF Find Neighborhoods  \\\n",
       "0  POINT (-122.389114 37.784286)            31                    31   \n",
       "1  POINT (-122.388504 37.789272)            30                    30   \n",
       "2   POINT (-122.39328 37.790424)           108                   108   \n",
       "3   POINT (-122.39142 37.788933)            30                    30   \n",
       "4   POINT (-122.39334 37.792076)           108                   108   \n",
       "\n",
       "  Current Police Districts Current Supervisor Districts Analysis Neighborhoods  \n",
       "0                        1                           10                      8  \n",
       "1                        1                           10                      8  \n",
       "2                        1                           10                      8  \n",
       "3                        1                           10                      8  \n",
       "4                        1                           10                      8  \n",
       "\n",
       "[5 rows x 45 columns]"
      ]
     },
     "execution_count": 23,
     "metadata": {},
     "output_type": "execute_result"
    }
   ],
   "source": [
    "useful_meter_info = meter[['POST_ID', '']]"
   ]
  },
  {
   "cell_type": "code",
   "execution_count": 25,
   "metadata": {},
   "outputs": [
    {
     "data": {
      "text/plain": [
       "0           568-26250\n",
       "1           568-26250\n",
       "2           568-26250\n",
       "3           568-26250\n",
       "4           568-26250\n",
       "5           568-26250\n",
       "6           568-26250\n",
       "7           568-26250\n",
       "8           568-26250\n",
       "9           568-26250\n",
       "10          568-26250\n",
       "11          568-26250\n",
       "12          568-26250\n",
       "13          568-26250\n",
       "14          568-26250\n",
       "15          568-26250\n",
       "16          568-26250\n",
       "17          568-26250\n",
       "18          568-26250\n",
       "19          568-26250\n",
       "20          568-26250\n",
       "21          568-26250\n",
       "22          568-26250\n",
       "23          568-26250\n",
       "24          568-26250\n",
       "25          568-26250\n",
       "26          568-26250\n",
       "27          568-26250\n",
       "28          568-26250\n",
       "29          568-26250\n",
       "              ...    \n",
       "16958876    664-15210\n",
       "16958877    664-15210\n",
       "16958878    664-15210\n",
       "16958879    664-15210\n",
       "16958880    664-15210\n",
       "16958881    664-15210\n",
       "16958882    664-15210\n",
       "16958883    664-15210\n",
       "16958884    845-05180\n",
       "16958885    845-05180\n",
       "16958886    845-05180\n",
       "16958887    845-05180\n",
       "16958888    845-05180\n",
       "16958889    845-05180\n",
       "16958890    845-05180\n",
       "16958891    845-05180\n",
       "16958892    845-05180\n",
       "16958893    568-02158\n",
       "16958894    845-05340\n",
       "16958895    845-05340\n",
       "16958896    845-05310\n",
       "16958897    845-05310\n",
       "16958898    845-05310\n",
       "16958899    845-05310\n",
       "16958900    845-05310\n",
       "16958901    845-05310\n",
       "16958902    845-05310\n",
       "16958903    845-05310\n",
       "16958904    845-05310\n",
       "16958905    845-05310\n",
       "Name: post_id, Length: 16958906, dtype: object"
      ]
     },
     "execution_count": 25,
     "metadata": {},
     "output_type": "execute_result"
    }
   ],
   "source": [
    "df.post_id"
   ]
  },
  {
   "cell_type": "code",
   "execution_count": null,
   "metadata": {},
   "outputs": [],
   "source": []
  }
 ],
 "metadata": {
  "kernelspec": {
   "display_name": "Python 3",
   "language": "python",
   "name": "python3"
  },
  "language_info": {
   "codemirror_mode": {
    "name": "ipython",
    "version": 3
   },
   "file_extension": ".py",
   "mimetype": "text/x-python",
   "name": "python",
   "nbconvert_exporter": "python",
   "pygments_lexer": "ipython3",
   "version": "3.6.8"
  }
 },
 "nbformat": 4,
 "nbformat_minor": 2
}
