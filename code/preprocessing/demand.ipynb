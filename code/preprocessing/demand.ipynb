{
 "cells": [
  {
   "cell_type": "code",
   "execution_count": 18,
   "metadata": {},
   "outputs": [],
   "source": [
    "import numpy as np\n",
    "import pandas as pd\n",
    "from datetime import datetime, timedelta\n",
    "import matplotlib.pyplot as plt"
   ]
  },
  {
   "cell_type": "code",
   "execution_count": 2,
   "metadata": {},
   "outputs": [],
   "source": [
    "df = pd.read_csv('../../../Revenue.csv')"
   ]
  },
  {
   "cell_type": "markdown",
   "metadata": {},
   "source": [
    "### 1) EDA"
   ]
  },
  {
   "cell_type": "code",
   "execution_count": 3,
   "metadata": {},
   "outputs": [],
   "source": [
    "before = df[(df['session_start_dt'].str.contains(\"2019\")) \n",
    "                   | (df['session_start_dt'].str.contains(\"2020-01\")) \n",
    "                   | (df['session_start_dt'].str.contains(\"2020-02\"))]\n",
    "after = df[(~df['session_start_dt'].str.contains(\"2019\")) \n",
    "                   & (~df['session_start_dt'].str.contains(\"2020-01\")) \n",
    "                   & (~df['session_start_dt'].str.contains(\"2020-02\"))]"
   ]
  },
  {
   "cell_type": "code",
   "execution_count": 4,
   "metadata": {},
   "outputs": [],
   "source": [
    "last12 = df[(df['session_start_dt'].str.contains(\"2019\"))]\n",
    "this1 = df[(df['session_start_dt'].str.contains(\"2020-01\"))]\n",
    "this2 = df[(df['session_start_dt'].str.contains(\"2020-02\"))]\n",
    "this3 = df[(df['session_start_dt'].str.contains(\"2020-03\"))]\n",
    "this4 = df[(df['session_start_dt'].str.contains(\"2020-04\"))]\n",
    "this5 = df[(df['session_start_dt'].str.contains(\"2020-05\"))]\n",
    "this6 = df[(df['session_start_dt'].str.contains(\"2020-06\"))]\n",
    "this7 = df[(df['session_start_dt'].str.contains(\"2020-07\"))]\n",
    "this8 = df[(df['session_start_dt'].str.contains(\"2020-08\"))]\n",
    "this9 = df[(df['session_start_dt'].str.contains(\"2020-09\"))]\n",
    "this10 = df[(df['session_start_dt'].str.contains(\"2020-10\"))]\n",
    "this11 = df[(df['session_start_dt'].str.contains(\"2020-11\"))]\n"
   ]
  },
  {
   "cell_type": "code",
   "execution_count": 5,
   "metadata": {},
   "outputs": [
    {
     "data": {
      "text/plain": [
       "([<matplotlib.axis.XTick at 0x7f807ca51e10>,\n",
       "  <matplotlib.axis.XTick at 0x7f807ca514d0>,\n",
       "  <matplotlib.axis.XTick at 0x7f8068d14b50>,\n",
       "  <matplotlib.axis.XTick at 0x7f7eec8d7350>,\n",
       "  <matplotlib.axis.XTick at 0x7f7eec8d78d0>,\n",
       "  <matplotlib.axis.XTick at 0x7f7eec8d7e50>,\n",
       "  <matplotlib.axis.XTick at 0x7f7eec8da450>,\n",
       "  <matplotlib.axis.XTick at 0x7f7eec8da9d0>,\n",
       "  <matplotlib.axis.XTick at 0x7f7eec8da490>,\n",
       "  <matplotlib.axis.XTick at 0x7f7eec8d7b90>,\n",
       "  <matplotlib.axis.XTick at 0x7f7eec8df310>,\n",
       "  <matplotlib.axis.XTick at 0x7f7eec8df8d0>],\n",
       " <a list of 12 Text xticklabel objects>)"
      ]
     },
     "execution_count": 5,
     "metadata": {},
     "output_type": "execute_result"
    },
    {
     "data": {
      "image/png": "[encoded data removed]",
      "text/plain": [
       "<Figure size 432x288 with 1 Axes>"
      ]
     },
     "metadata": {
      "needs_background": "light"
     },
     "output_type": "display_data"
    }
   ],
   "source": [
    "plt.plot([len(last12), len(this1), len(this2), len(this3), len(this4), len(this5), len(this6), len(this7), len(this8), len(this9), len(this10), len(this11)])\n",
    "plt.xticks(np.arange(12), (12,1,2,3,4,5,6,7,8,9,10,11))"
   ]
  },
  {
   "cell_type": "markdown",
   "metadata": {},
   "source": [
    "### 2) Demand: Time slot (per half an hour) & Covid stage"
   ]
  },
  {
   "cell_type": "code",
   "execution_count": 6,
   "metadata": {},
   "outputs": [],
   "source": [
    "def stage(dt):\n",
    "    if dt < datetime(2020, 3, 15): \n",
    "        return 0 # before\n",
    "    elif (dt >= datetime(2020, 3, 15)) & (dt < datetime(2020,5, 17)):\n",
    "        return 1 # shutdown\n",
    "    elif (dt >= datetime(2020, 5, 17)) & (dt < datetime(2020,7, 17)):\n",
    "        return 2 # reopen \n",
    "    elif (dt >= datetime(2020, 7, 17)) & (dt < datetime(2020, 9, 30)):\n",
    "        return 3 # closed_due_to_state_re\n",
    "    elif (dt >= datetime(2020, 9, 30)) & (dt < datetime(2020, 10, 20)):\n",
    "        return 4 # orange\n",
    "    elif (dt >= datetime(2020, 10, 20)) & (dt < datetime(2020, 11, 13)):\n",
    "        return 5 # yellow\n",
    "    elif dt >= datetime(2020, 11, 13):\n",
    "        return 6 # rollback"
   ]
  },
  {
   "cell_type": "code",
   "execution_count": 7,
   "metadata": {},
   "outputs": [],
   "source": [
    "df['dt'] = df['session_start_dt'].apply(lambda x: datetime.strptime(x[:19], '%Y-%m-%dT%H:%M:%S'))\n",
    "df['date'] = df['dt'].dt.date\n",
    "df['slot'] = df['dt'].apply(lambda x: int(x.hour) * 2 + (1 if int(x.minute) < 30 else 2) - 1)\n",
    "df['stage'] = df['dt'].apply(lambda x: stage(x))"
   ]
  },
  {
   "cell_type": "code",
   "execution_count": 8,
   "metadata": {},
   "outputs": [
    {
     "data": {
      "text/html": [
       "<div>\n",
       "<style scoped>\n",
       "    .dataframe tbody tr th:only-of-type {\n",
       "        vertical-align: middle;\n",
       "    }\n",
       "\n",
       "    .dataframe tbody tr th {\n",
       "        vertical-align: top;\n",
       "    }\n",
       "\n",
       "    .dataframe thead th {\n",
       "        text-align: right;\n",
       "    }\n",
       "</style>\n",
       "<table border=\"1\" class=\"dataframe\">\n",
       "  <thead>\n",
       "    <tr style=\"text-align: right;\">\n",
       "      <th></th>\n",
       "      <th>index</th>\n",
       "      <th>gross_paid_amt</th>\n",
       "      <th>BLOCKFACE_ID</th>\n",
       "      <th>slot</th>\n",
       "      <th>stage</th>\n",
       "    </tr>\n",
       "  </thead>\n",
       "  <tbody>\n",
       "    <tr>\n",
       "      <th>count</th>\n",
       "      <td>1.379242e+07</td>\n",
       "      <td>1.379242e+07</td>\n",
       "      <td>1.379242e+07</td>\n",
       "      <td>1.379242e+07</td>\n",
       "      <td>1.379242e+07</td>\n",
       "    </tr>\n",
       "    <tr>\n",
       "      <th>mean</th>\n",
       "      <td>6.896209e+06</td>\n",
       "      <td>2.038540e+00</td>\n",
       "      <td>4.718568e+05</td>\n",
       "      <td>2.568958e+01</td>\n",
       "      <td>1.926556e+00</td>\n",
       "    </tr>\n",
       "    <tr>\n",
       "      <th>std</th>\n",
       "      <td>3.981529e+06</td>\n",
       "      <td>2.708955e+00</td>\n",
       "      <td>1.812418e+05</td>\n",
       "      <td>5.536974e+00</td>\n",
       "      <td>1.931886e+00</td>\n",
       "    </tr>\n",
       "    <tr>\n",
       "      <th>min</th>\n",
       "      <td>0.000000e+00</td>\n",
       "      <td>0.000000e+00</td>\n",
       "      <td>1.020210e+05</td>\n",
       "      <td>0.000000e+00</td>\n",
       "      <td>0.000000e+00</td>\n",
       "    </tr>\n",
       "    <tr>\n",
       "      <th>25%</th>\n",
       "      <td>3.448104e+06</td>\n",
       "      <td>4.900000e-01</td>\n",
       "      <td>3.521310e+05</td>\n",
       "      <td>2.100000e+01</td>\n",
       "      <td>0.000000e+00</td>\n",
       "    </tr>\n",
       "    <tr>\n",
       "      <th>50%</th>\n",
       "      <td>6.896209e+06</td>\n",
       "      <td>1.000000e+00</td>\n",
       "      <td>4.701110e+05</td>\n",
       "      <td>2.600000e+01</td>\n",
       "      <td>2.000000e+00</td>\n",
       "    </tr>\n",
       "    <tr>\n",
       "      <th>75%</th>\n",
       "      <td>1.034431e+07</td>\n",
       "      <td>2.750000e+00</td>\n",
       "      <td>6.061510e+05</td>\n",
       "      <td>3.000000e+01</td>\n",
       "      <td>3.000000e+00</td>\n",
       "    </tr>\n",
       "    <tr>\n",
       "      <th>max</th>\n",
       "      <td>1.379242e+07</td>\n",
       "      <td>7.150000e+01</td>\n",
       "      <td>8.780020e+05</td>\n",
       "      <td>4.700000e+01</td>\n",
       "      <td>6.000000e+00</td>\n",
       "    </tr>\n",
       "  </tbody>\n",
       "</table>\n",
       "</div>"
      ],
      "text/plain": [
       "              index  gross_paid_amt  BLOCKFACE_ID          slot         stage\n",
       "count  1.379242e+07    1.379242e+07  1.379242e+07  1.379242e+07  1.379242e+07\n",
       "mean   6.896209e+06    2.038540e+00  4.718568e+05  2.568958e+01  1.926556e+00\n",
       "std    3.981529e+06    2.708955e+00  1.812418e+05  5.536974e+00  1.931886e+00\n",
       "min    0.000000e+00    0.000000e+00  1.020210e+05  0.000000e+00  0.000000e+00\n",
       "25%    3.448104e+06    4.900000e-01  3.521310e+05  2.100000e+01  0.000000e+00\n",
       "50%    6.896209e+06    1.000000e+00  4.701110e+05  2.600000e+01  2.000000e+00\n",
       "75%    1.034431e+07    2.750000e+00  6.061510e+05  3.000000e+01  3.000000e+00\n",
       "max    1.379242e+07    7.150000e+01  8.780020e+05  4.700000e+01  6.000000e+00"
      ]
     },
     "execution_count": 8,
     "metadata": {},
     "output_type": "execute_result"
    }
   ],
   "source": [
    "df.describe()"
   ]
  },
  {
   "cell_type": "code",
   "execution_count": 9,
   "metadata": {},
   "outputs": [],
   "source": [
    "for_demand_date = df.groupby(['BLOCKFACE_ID','stage','date','slot']).count()['gross_paid_amt'].reset_index()\n",
    "for_demand_date['count'] = for_demand_date['gross_paid_amt']"
   ]
  },
  {
   "cell_type": "code",
   "execution_count": 11,
   "metadata": {},
   "outputs": [],
   "source": [
    "df_block = pd.read_csv('../../data/Meters/Meter_block.csv')"
   ]
  },
  {
   "cell_type": "code",
   "execution_count": 30,
   "metadata": {},
   "outputs": [],
   "source": [
    "d = [datetime(2019, 12, 1)]\n",
    "for i in range(365):\n",
    "    d.append(d[-1] + timedelta(days=1))"
   ]
  },
  {
   "cell_type": "code",
   "execution_count": 37,
   "metadata": {},
   "outputs": [],
   "source": [
    "b = []\n",
    "dt = []\n",
    "sl = []\n",
    "\n",
    "for block_ in list(df_block['BLOCKFACE_ID'].unique()):\n",
    "    for date_ in d:\n",
    "        for slot_ in range(48):\n",
    "            b.append(block_)\n",
    "            dt.append(date_)\n",
    "            sl.append(slot_)"
   ]
  },
  {
   "cell_type": "code",
   "execution_count": 40,
   "metadata": {},
   "outputs": [],
   "source": [
    "fakedata = {'BLOCKFACE_ID':b,\n",
    "            'date': dt,\n",
    "            'slot':sl,\n",
    "            'count':[0]*366*48*len(df_block['BLOCKFACE_ID'].unique())}\n",
    "fakedf = pd.DataFrame(fakedata)\n",
    "fakedf['stage'] = fakedf['date'].apply(lambda x: stage(x))"
   ]
  },
  {
   "cell_type": "code",
   "execution_count": 42,
   "metadata": {},
   "outputs": [],
   "source": [
    "for_demand = pd.concat([fakedf,for_demand_date[['BLOCKFACE_ID','date','slot', 'count', 'stage']]])\n",
    "for_demand = for_demand.drop_duplicates(subset=['BLOCKFACE_ID','date','slot'], keep='last')"
   ]
  },
  {
   "cell_type": "code",
   "execution_count": 45,
   "metadata": {},
   "outputs": [],
   "source": [
    "for_demand_agg = pd.DataFrame()\n",
    "for_demand_agg['mean'] = for_demand.groupby(['BLOCKFACE_ID', 'stage', 'slot']).mean()['count']\n",
    "for_demand_agg['std'] = for_demand.groupby(['BLOCKFACE_ID', 'stage', 'slot']).std()['count']\n",
    "for_demand_agg['std'] = for_demand_agg['std'].clip(lower=0.01)"
   ]
  },
  {
   "cell_type": "code",
   "execution_count": null,
   "metadata": {},
   "outputs": [],
   "source": [
    "for_demand_agg = for_demand_agg.reset_index().sort_values(['BLOCKFACE_ID','stage','slot'])"
   ]
  },
  {
   "cell_type": "code",
   "execution_count": null,
   "metadata": {},
   "outputs": [],
   "source": [
    "for_demand_agg.describe()"
   ]
  },
  {
   "cell_type": "code",
   "execution_count": 15,
   "metadata": {},
   "outputs": [],
   "source": [
    "for_demand_agg.to_csv('../../data/demand.csv', index=None)"
   ]
  },
  {
   "cell_type": "markdown",
   "metadata": {},
   "source": [
    "### Time to park"
   ]
  },
  {
   "cell_type": "code",
   "execution_count": 18,
   "metadata": {},
   "outputs": [],
   "source": [
    "df['dt_e'] = df['session_end_dt'].apply(lambda x: datetime.strptime(x[:19], '%Y-%m-%dT%H:%M:%S'))"
   ]
  },
  {
   "cell_type": "code",
   "execution_count": 29,
   "metadata": {},
   "outputs": [],
   "source": [
    "df['time_diff'] = df['dt_e'] - df['dt']"
   ]
  },
  {
   "cell_type": "code",
   "execution_count": 39,
   "metadata": {},
   "outputs": [
    {
     "data": {
      "text/plain": [
       "BLOCKFACE_ID  stage                   slot\n",
       "102021        before                  8.5           00:49:51\n",
       "                                      9.0    01:01:34.611111\n",
       "                                      9.5    00:45:54.076923\n",
       "                                      10.0   00:58:48.652173\n",
       "                                      10.5   00:49:31.676470\n",
       "                                      11.0   00:51:24.444444\n",
       "                                      11.5   00:43:17.095238\n",
       "                                      12.0   00:49:44.125000\n",
       "                                      12.5   00:51:08.731707\n",
       "                                      13.0   01:01:05.419354\n",
       "                                      13.5   00:56:19.320000\n",
       "                                      14.0   00:53:38.200000\n",
       "                                      14.5   00:34:52.954545\n",
       "                                      15.0   00:46:58.484848\n",
       "                                      15.5   01:07:30.518518\n",
       "                                      16.0   00:57:38.652173\n",
       "                                      16.5   00:49:42.800000\n",
       "                                      17.0   00:52:06.888888\n",
       "                                      17.5   00:35:33.225806\n",
       "                                      18.0   00:21:07.800000\n",
       "              closed_due_to_state_re  7.5           03:37:49\n",
       "                                      8.0           03:13:45\n",
       "                                      9.0    01:01:53.750000\n",
       "                                      9.5    00:59:05.480000\n",
       "                                      10.0   00:52:26.350000\n",
       "                                      10.5   00:37:28.750000\n",
       "                                      11.0   00:49:49.739130\n",
       "                                      11.5   00:46:28.066666\n",
       "                                      12.0   00:45:44.384615\n",
       "                                      12.5   00:41:48.548387\n",
       "                                                   ...      \n",
       "878002        shutdown                20.0          01:00:00\n",
       "                                      20.5          01:00:00\n",
       "                                      21.0          01:00:00\n",
       "              yellow                  6.0    07:26:12.272727\n",
       "                                      6.5    07:34:15.040816\n",
       "                                      7.0    06:09:51.769230\n",
       "                                      7.5    06:26:25.129032\n",
       "                                      8.0    05:52:28.333333\n",
       "                                      8.5           06:02:17\n",
       "                                      9.0    02:32:19.923076\n",
       "                                      9.5    03:15:02.400000\n",
       "                                      10.0   01:42:02.444444\n",
       "                                      10.5   02:25:58.500000\n",
       "                                      11.0   02:10:34.500000\n",
       "                                      11.5   02:15:15.750000\n",
       "                                      12.0   01:40:02.750000\n",
       "                                      12.5   01:45:43.214285\n",
       "                                      13.0   01:12:18.869565\n",
       "                                      13.5   01:24:43.400000\n",
       "                                      14.0          01:29:12\n",
       "                                      14.5   01:43:34.666666\n",
       "                                      15.0   01:21:19.777777\n",
       "                                      15.5   01:17:01.727272\n",
       "                                      16.0   01:20:46.400000\n",
       "                                      16.5   01:13:42.857142\n",
       "                                      17.0          01:39:49\n",
       "                                      17.5   01:10:50.333333\n",
       "                                      18.0          01:57:00\n",
       "                                      19.0          02:54:00\n",
       "                                      21.0          01:30:00\n",
       "Name: time_diff, Length: 404186, dtype: timedelta64[ns]"
      ]
     },
     "execution_count": 39,
     "metadata": {},
     "output_type": "execute_result"
    }
   ],
   "source": [
    "df.groupby(['BLOCKFACE_ID', 'stage', 'slot'])['time_diff'].agg(lambda x: x.mean())"
   ]
  },
  {
   "cell_type": "markdown",
   "metadata": {},
   "source": [
    "### Naive time to park model"
   ]
  },
  {
   "cell_type": "code",
   "execution_count": 41,
   "metadata": {},
   "outputs": [
    {
     "data": {
      "text/plain": [
       "BLOCKFACE_ID\n",
       "102021    [0 days 00:48:53.848045, 0 days 00:47:20.988257]\n",
       "102031    [0 days 01:02:50.036098, 0 days 01:06:23.517211]\n",
       "102032    [0 days 01:02:34.050225, 0 days 01:03:15.480959]\n",
       "102041    [0 days 00:58:59.733431, 0 days 01:02:01.547902]\n",
       "102042    [0 days 00:50:32.069705, 0 days 00:54:08.961816]\n",
       "103021    [0 days 00:44:51.315463, 0 days 00:44:57.402401]\n",
       "103022    [0 days 00:21:04.939189, 0 days 00:19:33.194254]\n",
       "103031    [0 days 00:41:28.523105, 0 days 00:43:04.923051]\n",
       "103032    [0 days 00:48:20.317450, 0 days 00:44:20.698372]\n",
       "103132    [0 days 01:18:50.346277, 0 days 01:05:52.415737]\n",
       "104021    [0 days 00:54:27.858660, 0 days 00:46:47.437402]\n",
       "104022    [0 days 00:55:19.347713, 0 days 00:49:15.649553]\n",
       "104031    [0 days 00:57:54.170716, 0 days 01:01:06.798987]\n",
       "104032    [0 days 00:57:27.954680, 0 days 00:54:58.310158]\n",
       "104033    [0 days 01:08:09.461201, 0 days 01:05:13.705866]\n",
       "104034    [0 days 01:08:35.542575, 0 days 01:11:02.796144]\n",
       "104041    [0 days 00:56:26.328429, 0 days 00:59:52.218910]\n",
       "104042    [0 days 00:45:23.161209, 0 days 00:43:33.203190]\n",
       "105021    [0 days 00:35:57.359831, 0 days 00:34:22.534864]\n",
       "105022    [0 days 00:39:29.962232, 0 days 00:35:17.028083]\n",
       "105031    [0 days 00:41:08.014457, 0 days 00:39:17.319684]\n",
       "105032    [0 days 00:43:55.005243, 0 days 00:41:49.018231]\n",
       "105033    [0 days 01:00:23.417184, 0 days 00:54:57.018094]\n",
       "105042    [0 days 00:52:48.795535, 0 days 00:49:33.147584]\n",
       "106021    [0 days 00:32:34.914188, 0 days 00:47:26.742166]\n",
       "106031    [0 days 00:33:19.561814, 0 days 00:30:19.751598]\n",
       "106032    [0 days 00:39:41.655290, 0 days 00:34:31.757175]\n",
       "107021    [0 days 00:50:27.074486, 0 days 01:01:09.752924]\n",
       "107022    [0 days 00:47:26.074514, 0 days 01:05:24.532758]\n",
       "107031    [0 days 00:37:51.371859, 0 days 00:38:14.798282]\n",
       "                                ...                       \n",
       "847011    [0 days 01:06:40.018425, 0 days 00:45:09.074708]\n",
       "847052    [0 days 01:16:53.090607, 0 days 00:57:46.525957]\n",
       "854292    [0 days 01:21:07.261870, 0 days 00:56:33.259729]\n",
       "855001    [0 days 02:15:22.968618, 0 days 02:21:58.433274]\n",
       "855002    [0 days 01:54:24.993405, 0 days 01:49:23.948607]\n",
       "857171    [0 days 02:13:29.032980, 0 days 02:34:14.124394]\n",
       "857172    [0 days 01:43:38.101559, 0 days 01:37:18.386255]\n",
       "859001    [0 days 01:27:23.044349, 0 days 00:47:51.407542]\n",
       "859002    [0 days 01:28:37.541402, 0 days 00:56:33.858785]\n",
       "860032    [0 days 02:33:38.855151, 0 days 02:26:05.777348]\n",
       "860042    [0 days 02:28:53.098701, 0 days 02:26:40.628229]\n",
       "861031    [0 days 02:29:38.210629, 0 days 02:15:32.635367]\n",
       "861041    [0 days 02:31:06.630541, 0 days 02:13:09.945650]\n",
       "862252    [0 days 01:09:20.182926, 0 days 00:47:30.974710]\n",
       "863152    [0 days 01:56:42.451299, 0 days 01:42:20.294243]\n",
       "864041    [0 days 03:21:49.002083, 0 days 03:01:29.100672]\n",
       "864042    [0 days 03:11:47.126301, 0 days 02:53:52.404541]\n",
       "869041    [0 days 02:18:29.205841, 0 days 02:12:02.065822]\n",
       "869042    [0 days 02:42:30.873015, 0 days 02:21:29.892616]\n",
       "869044    [0 days 02:51:35.933346, 0 days 02:29:52.683035]\n",
       "869046    [0 days 02:43:30.902111, 0 days 02:26:20.595223]\n",
       "869051    [0 days 03:05:37.454423, 0 days 02:33:00.874759]\n",
       "869052    [0 days 02:53:25.131081, 0 days 02:33:57.292395]\n",
       "869071    [0 days 03:07:44.159607, 0 days 02:49:04.523377]\n",
       "869072    [0 days 03:30:58.593446, 0 days 03:02:12.478008]\n",
       "869081    [0 days 02:28:23.703426, 0 days 02:31:56.306708]\n",
       "869082    [0 days 01:34:09.022894, 0 days 11:12:11.333915]\n",
       "872002    [0 days 02:57:54.861771, 0 days 02:33:29.088675]\n",
       "878001    [0 days 03:16:19.573320, 0 days 02:43:27.039185]\n",
       "878002    [0 days 03:17:09.175338, 0 days 02:37:39.487625]\n",
       "Name: time_diff, Length: 2658, dtype: object"
      ]
     },
     "execution_count": 41,
     "metadata": {},
     "output_type": "execute_result"
    }
   ],
   "source": [
    "df.groupby(['BLOCKFACE_ID'])['time_diff'].agg(lambda x: [x.mean(), x.std()])"
   ]
  },
  {
   "cell_type": "code",
   "execution_count": null,
   "metadata": {},
   "outputs": [],
   "source": []
  }
 ],
 "metadata": {
  "kernelspec": {
   "display_name": "Python 3",
   "language": "python",
   "name": "python3"
  },
  "language_info": {
   "codemirror_mode": {
    "name": "ipython",
    "version": 3
   },
   "file_extension": ".py",
   "mimetype": "text/x-python",
   "name": "python",
   "nbconvert_exporter": "python",
   "pygments_lexer": "ipython3",
   "version": "3.7.6"
  }
 },
 "nbformat": 4,
 "nbformat_minor": 2
}
