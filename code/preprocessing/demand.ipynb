{
 "cells": [
  {
   "cell_type": "code",
   "execution_count": 1,
   "metadata": {},
   "outputs": [],
   "source": [
    "import numpy as np\n",
    "import pandas as pd\n",
    "from datetime import datetime\n",
    "import matplotlib.pyplot as plt\n",
    "import seaborn as sns\n",
    "from sklearn import linear_model\n",
    "from sklearn.linear_model import LinearRegression"
   ]
  },
  {
   "cell_type": "code",
   "execution_count": 2,
   "metadata": {},
   "outputs": [],
   "source": [
    "df = pd.read_csv('../../../Revenue.csv')"
   ]
  },
  {
   "cell_type": "markdown",
   "metadata": {},
   "source": [
    "### 1) EDA"
   ]
  },
  {
   "cell_type": "code",
   "execution_count": 3,
   "metadata": {},
   "outputs": [],
   "source": [
    "before = df[(df['session_start_dt'].str.contains(\"2019\")) \n",
    "                   | (df['session_start_dt'].str.contains(\"2020-01\")) \n",
    "                   | (df['session_start_dt'].str.contains(\"2020-02\"))]\n",
    "after = df[(~df['session_start_dt'].str.contains(\"2019\")) \n",
    "                   & (~df['session_start_dt'].str.contains(\"2020-01\")) \n",
    "                   & (~df['session_start_dt'].str.contains(\"2020-02\"))]"
   ]
  },
  {
   "cell_type": "code",
   "execution_count": 4,
   "metadata": {},
   "outputs": [],
   "source": [
    "last12 = df[(df['session_start_dt'].str.contains(\"2019\"))]\n",
    "this1 = df[(df['session_start_dt'].str.contains(\"2020-01\"))]\n",
    "this2 = df[(df['session_start_dt'].str.contains(\"2020-02\"))]\n",
    "this3 = df[(df['session_start_dt'].str.contains(\"2020-03\"))]\n",
    "this4 = df[(df['session_start_dt'].str.contains(\"2020-04\"))]\n",
    "this5 = df[(df['session_start_dt'].str.contains(\"2020-05\"))]\n",
    "this6 = df[(df['session_start_dt'].str.contains(\"2020-06\"))]\n",
    "this7 = df[(df['session_start_dt'].str.contains(\"2020-07\"))]\n",
    "this8 = df[(df['session_start_dt'].str.contains(\"2020-08\"))]\n",
    "this9 = df[(df['session_start_dt'].str.contains(\"2020-09\"))]\n",
    "this10 = df[(df['session_start_dt'].str.contains(\"2020-10\"))]\n",
    "this11 = df[(df['session_start_dt'].str.contains(\"2020-11\"))]\n"
   ]
  },
  {
   "cell_type": "code",
   "execution_count": 5,
   "metadata": {},
   "outputs": [
    {
     "data": {
      "text/plain": [
       "([<matplotlib.axis.XTick at 0x7f807ca51e10>,\n",
       "  <matplotlib.axis.XTick at 0x7f807ca514d0>,\n",
       "  <matplotlib.axis.XTick at 0x7f8068d14b50>,\n",
       "  <matplotlib.axis.XTick at 0x7f7eec8d7350>,\n",
       "  <matplotlib.axis.XTick at 0x7f7eec8d78d0>,\n",
       "  <matplotlib.axis.XTick at 0x7f7eec8d7e50>,\n",
       "  <matplotlib.axis.XTick at 0x7f7eec8da450>,\n",
       "  <matplotlib.axis.XTick at 0x7f7eec8da9d0>,\n",
       "  <matplotlib.axis.XTick at 0x7f7eec8da490>,\n",
       "  <matplotlib.axis.XTick at 0x7f7eec8d7b90>,\n",
       "  <matplotlib.axis.XTick at 0x7f7eec8df310>,\n",
       "  <matplotlib.axis.XTick at 0x7f7eec8df8d0>],\n",
       " <a list of 12 Text xticklabel objects>)"
      ]
     },
     "execution_count": 5,
     "metadata": {},
     "output_type": "execute_result"
    },
    {
     "data": {
      "image/png": "[encoded data removed]",
      "text/plain": [
       "<Figure size 432x288 with 1 Axes>"
      ]
     },
     "metadata": {
      "needs_background": "light"
     },
     "output_type": "display_data"
    }
   ],
   "source": [
    "plt.plot([len(last12), len(this1), len(this2), len(this3), len(this4), len(this5), len(this6), len(this7), len(this8), len(this9), len(this10), len(this11)])\n",
    "plt.xticks(np.arange(12), (12,1,2,3,4,5,6,7,8,9,10,11))"
   ]
  },
  {
   "cell_type": "markdown",
   "metadata": {},
   "source": [
    "### 2) Demand: Time slot (per half an hour) & Covid stage"
   ]
  },
  {
   "cell_type": "code",
   "execution_count": 3,
   "metadata": {},
   "outputs": [],
   "source": [
    "df['dt'] = df['session_start_dt'].apply(lambda x: datetime.strptime(x[:19], '%Y-%m-%dT%H:%M:%S'))"
   ]
  },
  {
   "cell_type": "code",
   "execution_count": 4,
   "metadata": {},
   "outputs": [],
   "source": [
    "df['slot'] = df['dt'].apply(lambda x: int(x.hour) + (0.5 if int(x.minute) < 30 else 1))"
   ]
  },
  {
   "cell_type": "code",
   "execution_count": 5,
   "metadata": {},
   "outputs": [],
   "source": [
    "def stage(dt):\n",
    "    if dt < datetime(2020, 3, 15): \n",
    "        return 0 # before\n",
    "    elif (dt >= datetime(2020, 3, 15)) & (dt < datetime(2020,5, 17)):\n",
    "        return 1 # shutdown\n",
    "    elif (dt >= datetime(2020, 5, 17)) & (dt < datetime(2020,7, 17)):\n",
    "        return 2 # reopen \n",
    "    elif (dt >= datetime(2020, 7, 17)) & (dt < datetime(2020, 9, 30)):\n",
    "        return 3 # closed_due_to_state_re\n",
    "    elif (dt >= datetime(2020, 9, 30)) & (dt < datetime(2020, 10, 20)):\n",
    "        return 4 # orange\n",
    "    elif (dt >= datetime(2020, 10, 20)) & (dt < datetime(2020, 11, 13)):\n",
    "        return 5 # yellow\n",
    "    elif dt >= datetime(2020, 11, 13):\n",
    "        return 6 # rollback"
   ]
  },
  {
   "cell_type": "code",
   "execution_count": 6,
   "metadata": {},
   "outputs": [],
   "source": [
    "df['dt'] = df['session_start_dt'].apply(lambda x: datetime.strptime(x[:19], '%Y-%m-%dT%H:%M:%S'))\n",
    "df['date'] = df['dt'].dt.date\n",
    "df['slot'] = df['dt'].apply(lambda x: int(x.hour) * 2 + (1 if int(x.minute) < 30 else 2) - 1)\n",
    "df['stage'] = df['dt'].apply(lambda x: stage(x))"
   ]
  },
  {
   "cell_type": "code",
   "execution_count": 32,
   "metadata": {},
   "outputs": [],
   "source": [
    "for_demand_date = df.groupby(['BLOCKFACE_ID','stage','date','slot']).count()['gross_paid_amt'].reset_index()\n",
    "for_demand_date['count'] = for_demand_date['gross_paid_amt']"
   ]
  },
  {
   "cell_type": "code",
   "execution_count": 43,
   "metadata": {},
   "outputs": [],
   "source": [
    "for_demand = pd.DataFrame()\n",
    "for_demand['mean'] = for_demand_date.groupby(['BLOCKFACE_ID','stage','slot']).mean()['count']\n",
    "for_demand['std'] = for_demand_date.groupby(['BLOCKFACE_ID','stage','slot']).std()['count']\n",
    "for_demand = for_demand.reset_index()"
   ]
  },
  {
   "cell_type": "code",
   "execution_count": 44,
   "metadata": {},
   "outputs": [],
   "source": [
    "df_block = pd.read_csv('../../data/Meters/Meter_block.csv')"
   ]
  },
  {
   "cell_type": "code",
   "execution_count": 45,
   "metadata": {},
   "outputs": [],
   "source": [
    "b = []\n",
    "st = []\n",
    "sl = []\n",
    "for block_ in list(df_block['BLOCKFACE_ID'].unique()):\n",
    "    for stage_ in range(7):\n",
    "        for slot_ in range(48):\n",
    "            b.append(block_)\n",
    "            st.append(stage_)\n",
    "            sl.append(slot_)\n",
    "fakedata = {'BLOCKFACE_ID':b,\n",
    "           'stage':st,\n",
    "           'slot':sl,\n",
    "           'mean':[0]*7*48*len(df_block['BLOCKFACE_ID'].unique()),\n",
    "           'std':[0]*7*48*len(df_block['BLOCKFACE_ID'].unique())}\n",
    "fakedf = pd.DataFrame(fakedata)"
   ]
  },
  {
   "cell_type": "code",
   "execution_count": 48,
   "metadata": {},
   "outputs": [],
   "source": [
    "for_demand_agg = pd.concat([fakedf,for_demand[['BLOCKFACE_ID','stage','slot', 'mean','std']]])\n",
    "for_demand_agg = for_demand_agg.groupby(['BLOCKFACE_ID', 'stage', 'slot']).sum()\n",
    "for_demand_agg['std'] = for_demand_agg['std'].clip(lower=0.01)\n",
    "for_demand_agg = for_demand_agg.reset_index().sort_values(['BLOCKFACE_ID','stage','slot'])"
   ]
  },
  {
   "cell_type": "code",
   "execution_count": 50,
   "metadata": {},
   "outputs": [
    {
     "data": {
      "text/html": [
       "<div>\n",
       "<style scoped>\n",
       "    .dataframe tbody tr th:only-of-type {\n",
       "        vertical-align: middle;\n",
       "    }\n",
       "\n",
       "    .dataframe tbody tr th {\n",
       "        vertical-align: top;\n",
       "    }\n",
       "\n",
       "    .dataframe thead th {\n",
       "        text-align: right;\n",
       "    }\n",
       "</style>\n",
       "<table border=\"1\" class=\"dataframe\">\n",
       "  <thead>\n",
       "    <tr style=\"text-align: right;\">\n",
       "      <th></th>\n",
       "      <th>BLOCKFACE_ID</th>\n",
       "      <th>stage</th>\n",
       "      <th>slot</th>\n",
       "      <th>mean</th>\n",
       "      <th>std</th>\n",
       "    </tr>\n",
       "  </thead>\n",
       "  <tbody>\n",
       "    <tr>\n",
       "      <th>0</th>\n",
       "      <td>0</td>\n",
       "      <td>0</td>\n",
       "      <td>0</td>\n",
       "      <td>0.0</td>\n",
       "      <td>0.01</td>\n",
       "    </tr>\n",
       "    <tr>\n",
       "      <th>1</th>\n",
       "      <td>0</td>\n",
       "      <td>0</td>\n",
       "      <td>1</td>\n",
       "      <td>0.0</td>\n",
       "      <td>0.01</td>\n",
       "    </tr>\n",
       "    <tr>\n",
       "      <th>2</th>\n",
       "      <td>0</td>\n",
       "      <td>0</td>\n",
       "      <td>2</td>\n",
       "      <td>0.0</td>\n",
       "      <td>0.01</td>\n",
       "    </tr>\n",
       "    <tr>\n",
       "      <th>3</th>\n",
       "      <td>0</td>\n",
       "      <td>0</td>\n",
       "      <td>3</td>\n",
       "      <td>0.0</td>\n",
       "      <td>0.01</td>\n",
       "    </tr>\n",
       "    <tr>\n",
       "      <th>4</th>\n",
       "      <td>0</td>\n",
       "      <td>0</td>\n",
       "      <td>4</td>\n",
       "      <td>0.0</td>\n",
       "      <td>0.01</td>\n",
       "    </tr>\n",
       "  </tbody>\n",
       "</table>\n",
       "</div>"
      ],
      "text/plain": [
       "   BLOCKFACE_ID  stage  slot  mean   std\n",
       "0             0      0     0   0.0  0.01\n",
       "1             0      0     1   0.0  0.01\n",
       "2             0      0     2   0.0  0.01\n",
       "3             0      0     3   0.0  0.01\n",
       "4             0      0     4   0.0  0.01"
      ]
     },
     "execution_count": 50,
     "metadata": {},
     "output_type": "execute_result"
    }
   ],
   "source": [
    "for_demand_agg.head()"
   ]
  },
  {
   "cell_type": "code",
   "execution_count": 49,
   "metadata": {},
   "outputs": [
    {
     "data": {
      "text/html": [
       "<div>\n",
       "<style scoped>\n",
       "    .dataframe tbody tr th:only-of-type {\n",
       "        vertical-align: middle;\n",
       "    }\n",
       "\n",
       "    .dataframe tbody tr th {\n",
       "        vertical-align: top;\n",
       "    }\n",
       "\n",
       "    .dataframe thead th {\n",
       "        text-align: right;\n",
       "    }\n",
       "</style>\n",
       "<table border=\"1\" class=\"dataframe\">\n",
       "  <thead>\n",
       "    <tr style=\"text-align: right;\">\n",
       "      <th></th>\n",
       "      <th>BLOCKFACE_ID</th>\n",
       "      <th>stage</th>\n",
       "      <th>slot</th>\n",
       "      <th>mean</th>\n",
       "      <th>std</th>\n",
       "    </tr>\n",
       "  </thead>\n",
       "  <tbody>\n",
       "    <tr>\n",
       "      <th>count</th>\n",
       "      <td>849408.000000</td>\n",
       "      <td>849408.000000</td>\n",
       "      <td>849408.000000</td>\n",
       "      <td>849408.000000</td>\n",
       "      <td>849408.000000</td>\n",
       "    </tr>\n",
       "    <tr>\n",
       "      <th>mean</th>\n",
       "      <td>459420.835047</td>\n",
       "      <td>3.000000</td>\n",
       "      <td>23.500000</td>\n",
       "      <td>0.708041</td>\n",
       "      <td>0.321896</td>\n",
       "    </tr>\n",
       "    <tr>\n",
       "      <th>std</th>\n",
       "      <td>188077.862768</td>\n",
       "      <td>2.000001</td>\n",
       "      <td>13.853407</td>\n",
       "      <td>1.039012</td>\n",
       "      <td>0.561257</td>\n",
       "    </tr>\n",
       "    <tr>\n",
       "      <th>min</th>\n",
       "      <td>0.000000</td>\n",
       "      <td>0.000000</td>\n",
       "      <td>0.000000</td>\n",
       "      <td>0.000000</td>\n",
       "      <td>0.010000</td>\n",
       "    </tr>\n",
       "    <tr>\n",
       "      <th>25%</th>\n",
       "      <td>336111.750000</td>\n",
       "      <td>1.000000</td>\n",
       "      <td>11.750000</td>\n",
       "      <td>0.000000</td>\n",
       "      <td>0.010000</td>\n",
       "    </tr>\n",
       "    <tr>\n",
       "      <th>50%</th>\n",
       "      <td>446021.500000</td>\n",
       "      <td>3.000000</td>\n",
       "      <td>23.500000</td>\n",
       "      <td>0.000000</td>\n",
       "      <td>0.010000</td>\n",
       "    </tr>\n",
       "    <tr>\n",
       "      <th>75%</th>\n",
       "      <td>606231.250000</td>\n",
       "      <td>5.000000</td>\n",
       "      <td>35.250000</td>\n",
       "      <td>1.315789</td>\n",
       "      <td>0.522233</td>\n",
       "    </tr>\n",
       "    <tr>\n",
       "      <th>max</th>\n",
       "      <td>878002.000000</td>\n",
       "      <td>6.000000</td>\n",
       "      <td>47.000000</td>\n",
       "      <td>18.534091</td>\n",
       "      <td>18.273713</td>\n",
       "    </tr>\n",
       "  </tbody>\n",
       "</table>\n",
       "</div>"
      ],
      "text/plain": [
       "        BLOCKFACE_ID          stage           slot           mean  \\\n",
       "count  849408.000000  849408.000000  849408.000000  849408.000000   \n",
       "mean   459420.835047       3.000000      23.500000       0.708041   \n",
       "std    188077.862768       2.000001      13.853407       1.039012   \n",
       "min         0.000000       0.000000       0.000000       0.000000   \n",
       "25%    336111.750000       1.000000      11.750000       0.000000   \n",
       "50%    446021.500000       3.000000      23.500000       0.000000   \n",
       "75%    606231.250000       5.000000      35.250000       1.315789   \n",
       "max    878002.000000       6.000000      47.000000      18.534091   \n",
       "\n",
       "                 std  \n",
       "count  849408.000000  \n",
       "mean        0.321896  \n",
       "std         0.561257  \n",
       "min         0.010000  \n",
       "25%         0.010000  \n",
       "50%         0.010000  \n",
       "75%         0.522233  \n",
       "max        18.273713  "
      ]
     },
     "execution_count": 49,
     "metadata": {},
     "output_type": "execute_result"
    }
   ],
   "source": [
    "for_demand_agg.describe()"
   ]
  },
  {
   "cell_type": "code",
   "execution_count": 52,
   "metadata": {},
   "outputs": [],
   "source": [
    "for_demand_agg.to_csv('../../data/demand.csv', index=None)"
   ]
  },
  {
   "cell_type": "markdown",
   "metadata": {},
   "source": [
    "### Time to park"
   ]
  },
  {
   "cell_type": "code",
   "execution_count": 7,
   "metadata": {},
   "outputs": [],
   "source": [
    "df['dt_e'] = df['session_end_dt'].apply(lambda x: datetime.strptime(x[:19], '%Y-%m-%dT%H:%M:%S'))\n",
    "df['time_diff'] = df['dt_e'] - df['dt']"
   ]
  },
  {
   "cell_type": "markdown",
   "metadata": {},
   "source": [
    "#### 1) Naive time to park model (mean & std for each block)"
   ]
  },
  {
   "cell_type": "code",
   "execution_count": 63,
   "metadata": {},
   "outputs": [],
   "source": [
    "naive_model = pd.DataFrame(df.groupby(['BLOCKFACE_ID'])['time_diff'].agg(lambda x: x.mean()))\n",
    "naive_model['std'] = df.groupby(['BLOCKFACE_ID'])['time_diff'].agg(lambda x: x.std())"
   ]
  },
  {
   "cell_type": "markdown",
   "metadata": {},
   "source": [
    "#### 2) Investigate the impact of ON_OFFSTREET_TYPE (on/off) [df only contains on-street parking], OSP_ID (off-street parking space)[detailed record not available], OLD_RATE_AREA (hourly rate), METER_TYPE (single 19406/multi space 2473)\n"
   ]
  },
  {
   "cell_type": "code",
   "execution_count": 9,
   "metadata": {},
   "outputs": [],
   "source": [
    "meter = pd.read_csv('../../data/Meters/Parking_Meters_new.csv')\n",
    "useful_meter_info = meter[['POST_ID', 'OLD_RATE_AREA', 'METER_TYPE']]\n",
    "time_meter = df.merge(useful_meter_info, how='left', left_on='post_id', right_on='POST_ID')"
   ]
  },
  {
   "cell_type": "code",
   "execution_count": 14,
   "metadata": {},
   "outputs": [],
   "source": [
    "time_meter['duration'] = time_meter['time_diff'].apply(lambda x: x.total_seconds())"
   ]
  },
  {
   "cell_type": "markdown",
   "metadata": {},
   "source": [
    "Area 1: downtown ($3.5)\n",
    "\n",
    "Area 2: surrounding downtown ($3)\n",
    "\n",
    "Area 3: Residential neighborhood ($2)\n",
    "\n",
    "Area 4: NEAR Fisherman's wharf (close to port 1)\n",
    "\n",
    "Port 1,2 Fisherman's Wharf ($2.5)\n",
    "\n",
    "Port 3,4 North Embarcadero ($2)\n",
    "\n",
    "Port 5,6,7,8 Downtown ($3)\n",
    "\n",
    "Port 9,10,11 South Embarcadero ($1)"
   ]
  },
  {
   "cell_type": "code",
   "execution_count": 15,
   "metadata": {},
   "outputs": [],
   "source": [
    "def pricing(area):\n",
    "    if area in ['Area 1']:\n",
    "        return 3.5\n",
    "    elif area in ['Area2', 'Port 5', 'Port 6', 'Port 7', 'Port 8']:\n",
    "        return 3\n",
    "    elif area in ['Area 4', 'Port 1', 'Port 2']:\n",
    "        return 2.5\n",
    "    elif area in ['Area 3', 'Port 3', 'Port 4']:\n",
    "        return 2\n",
    "    elif area in ['Port 9', 'Port 10', 'Port 11']:\n",
    "        return 1\n",
    "    else: \n",
    "        return 0"
   ]
  },
  {
   "cell_type": "code",
   "execution_count": 16,
   "metadata": {},
   "outputs": [],
   "source": [
    "def region(area):\n",
    "    if area in ['Area 1']:\n",
    "        return 1 # downtown\n",
    "    elif area in ['Area2']:\n",
    "        return 2 # near downtown\n",
    "    elif area in ['Area 3']:\n",
    "        return 3 # Residential\n",
    "    elif area in ['Area 4', 'Port 1', 'Port 2']:\n",
    "        return 4 # Fisherman's Wharf\n",
    "    elif area in ['Port 3', 'Port 4']:\n",
    "        return 5 # North Embarcadero\n",
    "    elif area in ['Port 5', 'Port 6', 'Port 7', 'Port 8']:\n",
    "        return 6 # downtown port\n",
    "    elif area in ['Port 9', 'Port 10', 'Port 11']:\n",
    "        return 7 # South Embarcadero\n",
    "    else:\n",
    "        return 0"
   ]
  },
  {
   "cell_type": "code",
   "execution_count": 17,
   "metadata": {},
   "outputs": [],
   "source": [
    "time_meter['price'] = time_meter['OLD_RATE_AREA'].apply(pricing)\n",
    "time_meter['region'] = time_meter['OLD_RATE_AREA'].apply(region)"
   ]
  },
  {
   "cell_type": "code",
   "execution_count": 214,
   "metadata": {},
   "outputs": [],
   "source": [
    "#time_meter.groupby('price')['time_diff'].agg(lambda x: x.mean())"
   ]
  },
  {
   "cell_type": "code",
   "execution_count": 215,
   "metadata": {},
   "outputs": [],
   "source": [
    "#time_meter.groupby('region')['time_diff'].agg(lambda x: x.mean())"
   ]
  },
  {
   "cell_type": "code",
   "execution_count": 136,
   "metadata": {},
   "outputs": [
    {
     "data": {
      "text/plain": [
       "(0, 80000)"
      ]
     },
     "execution_count": 136,
     "metadata": {},
     "output_type": "execute_result"
    },
    {
     "data": {
      "image/png": "[encoded data removed]",
      "text/plain": [
       "<Figure size 432x288 with 1 Axes>"
      ]
     },
     "metadata": {
      "needs_background": "light"
     },
     "output_type": "display_data"
    }
   ],
   "source": [
    "sns.boxplot(y='duration', x='region', data =time_meter)\n",
    "plt.ylim(0, 80000)"
   ]
  },
  {
   "cell_type": "code",
   "execution_count": 137,
   "metadata": {},
   "outputs": [
    {
     "data": {
      "text/plain": [
       "(0, 80000)"
      ]
     },
     "execution_count": 137,
     "metadata": {},
     "output_type": "execute_result"
    },
    {
     "data": {
      "image/png": "[encoded data removed]",
      "text/plain": [
       "<Figure size 432x288 with 1 Axes>"
      ]
     },
     "metadata": {
      "needs_background": "light"
     },
     "output_type": "display_data"
    }
   ],
   "source": [
    "sns.boxplot(y='duration', x='price', data =time_meter)\n",
    "plt.ylim(0, 80000)"
   ]
  },
  {
   "cell_type": "code",
   "execution_count": 216,
   "metadata": {},
   "outputs": [],
   "source": [
    "#time_meter.groupby('OLD_RATE_AREA')['time_diff'].agg(lambda x: x.mean())"
   ]
  },
  {
   "cell_type": "code",
   "execution_count": 213,
   "metadata": {},
   "outputs": [],
   "source": [
    "#total_record = time_meter.groupby('OLD_RATE_AREA').count()['post_id']\n",
    "#total_meter = time_meter.groupby('OLD_RATE_AREA')['post_id'].nunique()\n",
    "#total_record/total_meter"
   ]
  },
  {
   "cell_type": "markdown",
   "metadata": {},
   "source": [
    "#### calculate pay rate"
   ]
  },
  {
   "cell_type": "code",
   "execution_count": 155,
   "metadata": {},
   "outputs": [
    {
     "data": {
      "text/plain": [
       "1800.0"
      ]
     },
     "execution_count": 155,
     "metadata": {},
     "output_type": "execute_result"
    }
   ],
   "source": [
    "#time_meter['gross_paid_amt'].describe(),\\\n",
    "#time_meter['duration'].describe()\n",
    "#import numpy as np\n",
    "#np.percentile(time_meter['duration'], 1)"
   ]
  },
  {
   "cell_type": "code",
   "execution_count": 18,
   "metadata": {},
   "outputs": [],
   "source": [
    "time_meter_clean = time_meter[(time_meter['duration'] >= 240) & (time_meter['duration'] <= 8*3600)]\n",
    "time_meter_clean = time_meter_clean[time_meter_clean['gross_paid_amt'] > 0]\n",
    "time_meter_clean['hourly_rate'] = time_meter_clean['gross_paid_amt']/(time_meter_clean['duration']/3600)\n",
    "time_meter_clean = time_meter_clean[time_meter_clean.gross_paid_amt >= 0.5]"
   ]
  },
  {
   "cell_type": "code",
   "execution_count": 192,
   "metadata": {},
   "outputs": [
    {
     "data": {
      "text/html": [
       "<div>\n",
       "<style scoped>\n",
       "    .dataframe tbody tr th:only-of-type {\n",
       "        vertical-align: middle;\n",
       "    }\n",
       "\n",
       "    .dataframe tbody tr th {\n",
       "        vertical-align: top;\n",
       "    }\n",
       "\n",
       "    .dataframe thead th {\n",
       "        text-align: right;\n",
       "    }\n",
       "</style>\n",
       "<table border=\"1\" class=\"dataframe\">\n",
       "  <thead>\n",
       "    <tr style=\"text-align: right;\">\n",
       "      <th></th>\n",
       "      <th>hourly_rate</th>\n",
       "      <th>duration</th>\n",
       "    </tr>\n",
       "  </thead>\n",
       "  <tbody>\n",
       "    <tr>\n",
       "      <th>hourly_rate</th>\n",
       "      <td>1.000000</td>\n",
       "      <td>-0.225703</td>\n",
       "    </tr>\n",
       "    <tr>\n",
       "      <th>duration</th>\n",
       "      <td>-0.225703</td>\n",
       "      <td>1.000000</td>\n",
       "    </tr>\n",
       "  </tbody>\n",
       "</table>\n",
       "</div>"
      ],
      "text/plain": [
       "             hourly_rate  duration\n",
       "hourly_rate     1.000000 -0.225703\n",
       "duration       -0.225703  1.000000"
      ]
     },
     "execution_count": 192,
     "metadata": {},
     "output_type": "execute_result"
    }
   ],
   "source": [
    "time_meter_clean[['hourly_rate','duration']].corr()"
   ]
  },
  {
   "cell_type": "markdown",
   "metadata": {},
   "source": [
    "#### 3) Continuous parking time model"
   ]
  },
  {
   "cell_type": "code",
   "execution_count": 19,
   "metadata": {},
   "outputs": [],
   "source": [
    "X = pd.get_dummies(data = time_meter_clean.region, drop_first = True)\n",
    "X['hourly_rate'] = time_meter_clean['hourly_rate']\n",
    "Y = time_meter_clean['duration']"
   ]
  },
  {
   "cell_type": "code",
   "execution_count": 20,
   "metadata": {},
   "outputs": [
    {
     "name": "stderr",
     "output_type": "stream",
     "text": [
      "/Users/apple/anaconda3/lib/python3.6/site-packages/numpy/core/fromnumeric.py:2389: FutureWarning: Method .ptp is deprecated and will be removed in a future version. Use numpy.ptp instead.\n",
      "  return ptp(axis=axis, out=out, **kwargs)\n"
     ]
    },
    {
     "name": "stdout",
     "output_type": "stream",
     "text": [
      "                            OLS Regression Results                            \n",
      "==============================================================================\n",
      "Dep. Variable:               duration   R-squared:                       0.123\n",
      "Model:                            OLS   Adj. R-squared:                  0.123\n",
      "Method:                 Least Squares   F-statistic:                 2.044e+05\n",
      "Date:                Tue, 15 Dec 2020   Prob (F-statistic):               0.00\n",
      "Time:                        17:58:11   Log-Likelihood:            -9.9392e+07\n",
      "No. Observations:            10212350   AIC:                         1.988e+08\n",
      "Df Residuals:                10212342   BIC:                         1.988e+08\n",
      "Df Model:                           7                                         \n",
      "Covariance Type:            nonrobust                                         \n",
      "===============================================================================\n",
      "                  coef    std err          t      P>|t|      [0.025      0.975]\n",
      "-------------------------------------------------------------------------------\n",
      "const        7820.5177      4.569   1711.689      0.000    7811.563    7829.473\n",
      "1            1200.6071      6.155    195.050      0.000    1188.543    1212.671\n",
      "3           -1798.1531      4.250   -423.094      0.000   -1806.483   -1789.823\n",
      "4            -102.1678      7.554    -13.525      0.000    -116.973     -87.362\n",
      "5            1454.1244     12.641    115.033      0.000    1429.349    1478.900\n",
      "6            2164.0275     10.375    208.576      0.000    2143.692    2184.363\n",
      "7            2935.8303     12.238    239.893      0.000    2911.844    2959.817\n",
      "hourly_rate  -820.3637      0.976   -840.824      0.000    -822.276    -818.451\n",
      "==============================================================================\n",
      "Omnibus:                  4494970.660   Durbin-Watson:                   1.381\n",
      "Prob(Omnibus):                  0.000   Jarque-Bera (JB):         25083517.384\n",
      "Skew:                           2.083   Prob(JB):                         0.00\n",
      "Kurtosis:                       9.450   Cond. No.                         30.8\n",
      "==============================================================================\n",
      "\n",
      "Notes:\n",
      "[1] Standard Errors assume that the covariance matrix of the errors is correctly specified.\n"
     ]
    }
   ],
   "source": [
    "import pandas as pd\n",
    "import numpy as np\n",
    "from sklearn import datasets, linear_model\n",
    "from sklearn.linear_model import LinearRegression\n",
    "import statsmodels.api as sm\n",
    "from scipy import stats\n",
    "\n",
    "X2 = sm.add_constant(X)\n",
    "est = sm.OLS(Y, X2)\n",
    "est2 = est.fit()\n",
    "print(est2.summary())"
   ]
  },
  {
   "cell_type": "code",
   "execution_count": 208,
   "metadata": {},
   "outputs": [
    {
     "data": {
      "text/plain": [
       "LinearRegression()"
      ]
     },
     "execution_count": 208,
     "metadata": {},
     "output_type": "execute_result"
    }
   ],
   "source": [
    "cont_model = linear_model.LinearRegression()\n",
    "cont_model.fit(X,Y)"
   ]
  },
  {
   "cell_type": "code",
   "execution_count": 209,
   "metadata": {},
   "outputs": [
    {
     "data": {
      "text/plain": [
       "array([ 1200.60713276, -1798.15308807,  -102.16784653,  1454.12437292,\n",
       "        2164.02749974,  2935.83033254,  -820.36373099])"
      ]
     },
     "execution_count": 209,
     "metadata": {},
     "output_type": "execute_result"
    }
   ],
   "source": [
    "cont_model.coef_"
   ]
  },
  {
   "cell_type": "code",
   "execution_count": 205,
   "metadata": {},
   "outputs": [
    {
     "data": {
      "text/plain": [
       "Index([1, 3, 4, 5, 6, 7, 'hourly_rate'], dtype='object')"
      ]
     },
     "execution_count": 205,
     "metadata": {},
     "output_type": "execute_result"
    }
   ],
   "source": [
    "X.columns"
   ]
  },
  {
   "cell_type": "code",
   "execution_count": null,
   "metadata": {},
   "outputs": [],
   "source": []
  }
 ],
 "metadata": {
  "kernelspec": {
   "display_name": "Python 3",
   "language": "python",
   "name": "python3"
  },
  "language_info": {
   "codemirror_mode": {
    "name": "ipython",
    "version": 3
   },
   "file_extension": ".py",
   "mimetype": "text/x-python",
   "name": "python",
   "nbconvert_exporter": "python",
   "pygments_lexer": "ipython3",
   "version": "3.6.8"
  }
 },
 "nbformat": 4,
 "nbformat_minor": 2
}
