{
 "cells": [
  {
   "cell_type": "code",
   "execution_count": 1,
   "metadata": {},
   "outputs": [],
   "source": [
    "import numpy as np\n",
    "import pandas as pd\n",
    "from datetime import datetime\n",
    "import matplotlib.pyplot as plt"
   ]
  },
  {
   "cell_type": "code",
   "execution_count": 2,
   "metadata": {},
   "outputs": [],
   "source": [
    "df = pd.read_csv('../../../Revenue.csv')"
   ]
  },
  {
   "cell_type": "markdown",
   "metadata": {},
   "source": [
    "### 1) EDA"
   ]
  },
  {
   "cell_type": "code",
   "execution_count": null,
   "metadata": {},
   "outputs": [],
   "source": [
    "before = df[(df['session_start_dt'].str.contains(\"2019\")) \n",
    "                   | (df['session_start_dt'].str.contains(\"2020-01\")) \n",
    "                   | (df['session_start_dt'].str.contains(\"2020-02\"))]\n",
    "after = df[(~df['session_start_dt'].str.contains(\"2019\")) \n",
    "                   & (~df['session_start_dt'].str.contains(\"2020-01\")) \n",
    "                   & (~df['session_start_dt'].str.contains(\"2020-02\"))]"
   ]
  },
  {
   "cell_type": "code",
   "execution_count": null,
   "metadata": {},
   "outputs": [],
   "source": [
    "last12 = df[(df['session_start_dt'].str.contains(\"2019\"))]\n",
    "this1 = df[(df['session_start_dt'].str.contains(\"2020-01\"))]\n",
    "this2 = df[(df['session_start_dt'].str.contains(\"2020-02\"))]\n",
    "this3 = df[(df['session_start_dt'].str.contains(\"2020-03\"))]\n",
    "this4 = df[(df['session_start_dt'].str.contains(\"2020-04\"))]\n",
    "this5 = df[(df['session_start_dt'].str.contains(\"2020-05\"))]\n",
    "this6 = df[(df['session_start_dt'].str.contains(\"2020-06\"))]\n",
    "this7 = df[(df['session_start_dt'].str.contains(\"2020-07\"))]\n",
    "this8 = df[(df['session_start_dt'].str.contains(\"2020-08\"))]\n",
    "this9 = df[(df['session_start_dt'].str.contains(\"2020-09\"))]\n",
    "this10 = df[(df['session_start_dt'].str.contains(\"2020-10\"))]\n",
    "this11 = df[(df['session_start_dt'].str.contains(\"2020-11\"))]\n"
   ]
  },
  {
   "cell_type": "code",
   "execution_count": null,
   "metadata": {},
   "outputs": [],
   "source": [
    "plt.plot([len(last12), len(this1), len(this2), len(this3), len(this4), len(this5), len(this6), len(this7), len(this8), len(this9), len(this10), len(this11)])\n",
    "plt.xticks(np.arange(12), (12,1,2,3,4,5,6,7,8,9,10,11))"
   ]
  },
  {
   "cell_type": "markdown",
   "metadata": {},
   "source": [
    "### 2) Demand: Time slot (per half an hour) & Covid stage"
   ]
  },
  {
   "cell_type": "code",
<<<<<<< HEAD
   "execution_count": 5,
   "metadata": {},
   "outputs": [],
   "source": [
    "df['dt'] = df['session_start_dt'].apply(lambda x: datetime.strptime(x[:19], '%Y-%m-%dT%H:%M:%S'))"
   ]
  },
  {
   "cell_type": "code",
   "execution_count": 6,
   "metadata": {},
   "outputs": [],
   "source": [
    "df['slot'] = df['dt'].apply(lambda x: int(x.hour) + (0.5 if int(x.minute) < 30 else 1))"
   ]
  },
  {
   "cell_type": "code",
   "execution_count": 7,
=======
   "execution_count": null,
>>>>>>> 90dd263849a2e3ecf0fb8cfd619623471ffc0f67
   "metadata": {},
   "outputs": [],
   "source": [
    "def stage(dt):\n",
    "    if dt < datetime(2020, 3, 15): \n",
    "        return 0 # before\n",
    "    elif (dt >= datetime(2020, 3, 15)) & (dt < datetime(2020,5, 17)):\n",
    "        return 1 # shutdown\n",
    "    elif (dt >= datetime(2020, 5, 17)) & (dt < datetime(2020,7, 17)):\n",
    "        return 2 # reopen \n",
    "    elif (dt >= datetime(2020, 7, 17)) & (dt < datetime(2020, 9, 30)):\n",
    "        return 3 # closed_due_to_state_re\n",
    "    elif (dt >= datetime(2020, 9, 30)) & (dt < datetime(2020, 10, 20)):\n",
    "        return 4 # orange\n",
    "    elif (dt >= datetime(2020, 10, 20)) & (dt < datetime(2020, 11, 13)):\n",
    "        return 5 # yellow\n",
    "    elif dt >= datetime(2020, 11, 13):\n",
    "        return 6 # rollback"
   ]
  },
  {
   "cell_type": "code",
<<<<<<< HEAD
   "execution_count": 8,
=======
   "execution_count": null,
>>>>>>> 90dd263849a2e3ecf0fb8cfd619623471ffc0f67
   "metadata": {},
   "outputs": [],
   "source": [
    "df['dt'] = df['session_start_dt'].apply(lambda x: datetime.strptime(x[:19], '%Y-%m-%dT%H:%M:%S'))\n",
    "df['date'] = df['dt'].dt.date\n",
    "df['slot'] = df['dt'].apply(lambda x: int(x.hour) * 2 + (1 if int(x.minute) < 30 else 2) - 1)\n",
    "df['stage'] = df['dt'].apply(lambda x: stage(x))"
   ]
  },
  {
   "cell_type": "code",
   "execution_count": null,
   "metadata": {},
   "outputs": [],
   "source": [
    "df.describe()"
   ]
  },
  {
   "cell_type": "code",
   "execution_count": null,
   "metadata": {},
   "outputs": [],
   "source": [
    "for_demand_date = df.groupby(['BLOCKFACE_ID','stage','date','slot']).count()['gross_paid_amt'].reset_index()\n",
    "for_demand_date['count'] = for_demand_date['gross_paid_amt']"
   ]
  },
  {
   "cell_type": "code",
   "execution_count": null,
   "metadata": {},
   "outputs": [],
   "source": [
    "for_demand = pd.DataFrame()\n",
    "for_demand['mean'] = for_demand_date.groupby(['BLOCKFACE_ID','stage','slot']).mean()['count']\n",
    "for_demand['std'] = for_demand_date.groupby(['BLOCKFACE_ID','stage','slot']).std()['count']\n",
    "for_demand = for_demand.reset_index()"
   ]
  },
  {
   "cell_type": "code",
   "execution_count": null,
   "metadata": {},
   "outputs": [],
   "source": [
    "df_block = pd.read_csv('../../data/Meters/Meter_block.csv')"
   ]
  },
  {
   "cell_type": "code",
   "execution_count": 13,
   "metadata": {},
   "outputs": [
    {
     "ename": "ValueError",
     "evalue": "arrays must all be same length",
     "output_type": "error",
     "traceback": [
      "\u001b[0;31m---------------------------------------------------------------------------\u001b[0m",
      "\u001b[0;31mValueError\u001b[0m                                Traceback (most recent call last)",
      "\u001b[0;32m<ipython-input-13-bde038bcfd9a>\u001b[0m in \u001b[0;36m<module>\u001b[0;34m()\u001b[0m\n\u001b[1;32m     13\u001b[0m            \u001b[0;34m'mean'\u001b[0m\u001b[0;34m:\u001b[0m\u001b[0;34m[\u001b[0m\u001b[0;36m0\u001b[0m\u001b[0;34m]\u001b[0m\u001b[0;34m*\u001b[0m\u001b[0;36m7\u001b[0m\u001b[0;34m*\u001b[0m\u001b[0;36m48\u001b[0m\u001b[0;34m*\u001b[0m\u001b[0;36m2658\u001b[0m\u001b[0;34m,\u001b[0m\u001b[0;34m\u001b[0m\u001b[0;34m\u001b[0m\u001b[0m\n\u001b[1;32m     14\u001b[0m            'std':[0]*7*48*2658}\n\u001b[0;32m---> 15\u001b[0;31m \u001b[0mfakedf\u001b[0m \u001b[0;34m=\u001b[0m \u001b[0mpd\u001b[0m\u001b[0;34m.\u001b[0m\u001b[0mDataFrame\u001b[0m\u001b[0;34m(\u001b[0m\u001b[0mfakedata\u001b[0m\u001b[0;34m)\u001b[0m\u001b[0;34m\u001b[0m\u001b[0;34m\u001b[0m\u001b[0m\n\u001b[0m",
      "\u001b[0;32m/opt/anaconda3/lib/python3.7/site-packages/pandas/core/frame.py\u001b[0m in \u001b[0;36m__init__\u001b[0;34m(self, data, index, columns, dtype, copy)\u001b[0m\n\u001b[1;32m    433\u001b[0m             )\n\u001b[1;32m    434\u001b[0m         \u001b[0;32melif\u001b[0m \u001b[0misinstance\u001b[0m\u001b[0;34m(\u001b[0m\u001b[0mdata\u001b[0m\u001b[0;34m,\u001b[0m \u001b[0mdict\u001b[0m\u001b[0;34m)\u001b[0m\u001b[0;34m:\u001b[0m\u001b[0;34m\u001b[0m\u001b[0;34m\u001b[0m\u001b[0m\n\u001b[0;32m--> 435\u001b[0;31m             \u001b[0mmgr\u001b[0m \u001b[0;34m=\u001b[0m \u001b[0minit_dict\u001b[0m\u001b[0;34m(\u001b[0m\u001b[0mdata\u001b[0m\u001b[0;34m,\u001b[0m \u001b[0mindex\u001b[0m\u001b[0;34m,\u001b[0m \u001b[0mcolumns\u001b[0m\u001b[0;34m,\u001b[0m \u001b[0mdtype\u001b[0m\u001b[0;34m=\u001b[0m\u001b[0mdtype\u001b[0m\u001b[0;34m)\u001b[0m\u001b[0;34m\u001b[0m\u001b[0;34m\u001b[0m\u001b[0m\n\u001b[0m\u001b[1;32m    436\u001b[0m         \u001b[0;32melif\u001b[0m \u001b[0misinstance\u001b[0m\u001b[0;34m(\u001b[0m\u001b[0mdata\u001b[0m\u001b[0;34m,\u001b[0m \u001b[0mma\u001b[0m\u001b[0;34m.\u001b[0m\u001b[0mMaskedArray\u001b[0m\u001b[0;34m)\u001b[0m\u001b[0;34m:\u001b[0m\u001b[0;34m\u001b[0m\u001b[0;34m\u001b[0m\u001b[0m\n\u001b[1;32m    437\u001b[0m             \u001b[0;32mimport\u001b[0m \u001b[0mnumpy\u001b[0m\u001b[0;34m.\u001b[0m\u001b[0mma\u001b[0m\u001b[0;34m.\u001b[0m\u001b[0mmrecords\u001b[0m \u001b[0;32mas\u001b[0m \u001b[0mmrecords\u001b[0m\u001b[0;34m\u001b[0m\u001b[0;34m\u001b[0m\u001b[0m\n",
      "\u001b[0;32m/opt/anaconda3/lib/python3.7/site-packages/pandas/core/internals/construction.py\u001b[0m in \u001b[0;36minit_dict\u001b[0;34m(data, index, columns, dtype)\u001b[0m\n\u001b[1;32m    252\u001b[0m             \u001b[0marr\u001b[0m \u001b[0;32mif\u001b[0m \u001b[0;32mnot\u001b[0m \u001b[0mis_datetime64tz_dtype\u001b[0m\u001b[0;34m(\u001b[0m\u001b[0marr\u001b[0m\u001b[0;34m)\u001b[0m \u001b[0;32melse\u001b[0m \u001b[0marr\u001b[0m\u001b[0;34m.\u001b[0m\u001b[0mcopy\u001b[0m\u001b[0;34m(\u001b[0m\u001b[0;34m)\u001b[0m \u001b[0;32mfor\u001b[0m \u001b[0marr\u001b[0m \u001b[0;32min\u001b[0m \u001b[0marrays\u001b[0m\u001b[0;34m\u001b[0m\u001b[0;34m\u001b[0m\u001b[0m\n\u001b[1;32m    253\u001b[0m         ]\n\u001b[0;32m--> 254\u001b[0;31m     \u001b[0;32mreturn\u001b[0m \u001b[0marrays_to_mgr\u001b[0m\u001b[0;34m(\u001b[0m\u001b[0marrays\u001b[0m\u001b[0;34m,\u001b[0m \u001b[0mdata_names\u001b[0m\u001b[0;34m,\u001b[0m \u001b[0mindex\u001b[0m\u001b[0;34m,\u001b[0m \u001b[0mcolumns\u001b[0m\u001b[0;34m,\u001b[0m \u001b[0mdtype\u001b[0m\u001b[0;34m=\u001b[0m\u001b[0mdtype\u001b[0m\u001b[0;34m)\u001b[0m\u001b[0;34m\u001b[0m\u001b[0;34m\u001b[0m\u001b[0m\n\u001b[0m\u001b[1;32m    255\u001b[0m \u001b[0;34m\u001b[0m\u001b[0m\n\u001b[1;32m    256\u001b[0m \u001b[0;34m\u001b[0m\u001b[0m\n",
      "\u001b[0;32m/opt/anaconda3/lib/python3.7/site-packages/pandas/core/internals/construction.py\u001b[0m in \u001b[0;36marrays_to_mgr\u001b[0;34m(arrays, arr_names, index, columns, dtype)\u001b[0m\n\u001b[1;32m     62\u001b[0m     \u001b[0;31m# figure out the index, if necessary\u001b[0m\u001b[0;34m\u001b[0m\u001b[0;34m\u001b[0m\u001b[0;34m\u001b[0m\u001b[0m\n\u001b[1;32m     63\u001b[0m     \u001b[0;32mif\u001b[0m \u001b[0mindex\u001b[0m \u001b[0;32mis\u001b[0m \u001b[0;32mNone\u001b[0m\u001b[0;34m:\u001b[0m\u001b[0;34m\u001b[0m\u001b[0;34m\u001b[0m\u001b[0m\n\u001b[0;32m---> 64\u001b[0;31m         \u001b[0mindex\u001b[0m \u001b[0;34m=\u001b[0m \u001b[0mextract_index\u001b[0m\u001b[0;34m(\u001b[0m\u001b[0marrays\u001b[0m\u001b[0;34m)\u001b[0m\u001b[0;34m\u001b[0m\u001b[0;34m\u001b[0m\u001b[0m\n\u001b[0m\u001b[1;32m     65\u001b[0m     \u001b[0;32melse\u001b[0m\u001b[0;34m:\u001b[0m\u001b[0;34m\u001b[0m\u001b[0;34m\u001b[0m\u001b[0m\n\u001b[1;32m     66\u001b[0m         \u001b[0mindex\u001b[0m \u001b[0;34m=\u001b[0m \u001b[0mensure_index\u001b[0m\u001b[0;34m(\u001b[0m\u001b[0mindex\u001b[0m\u001b[0;34m)\u001b[0m\u001b[0;34m\u001b[0m\u001b[0;34m\u001b[0m\u001b[0m\n",
      "\u001b[0;32m/opt/anaconda3/lib/python3.7/site-packages/pandas/core/internals/construction.py\u001b[0m in \u001b[0;36mextract_index\u001b[0;34m(data)\u001b[0m\n\u001b[1;32m    363\u001b[0m             \u001b[0mlengths\u001b[0m \u001b[0;34m=\u001b[0m \u001b[0mlist\u001b[0m\u001b[0;34m(\u001b[0m\u001b[0mset\u001b[0m\u001b[0;34m(\u001b[0m\u001b[0mraw_lengths\u001b[0m\u001b[0;34m)\u001b[0m\u001b[0;34m)\u001b[0m\u001b[0;34m\u001b[0m\u001b[0;34m\u001b[0m\u001b[0m\n\u001b[1;32m    364\u001b[0m             \u001b[0;32mif\u001b[0m \u001b[0mlen\u001b[0m\u001b[0;34m(\u001b[0m\u001b[0mlengths\u001b[0m\u001b[0;34m)\u001b[0m \u001b[0;34m>\u001b[0m \u001b[0;36m1\u001b[0m\u001b[0;34m:\u001b[0m\u001b[0;34m\u001b[0m\u001b[0;34m\u001b[0m\u001b[0m\n\u001b[0;32m--> 365\u001b[0;31m                 \u001b[0;32mraise\u001b[0m \u001b[0mValueError\u001b[0m\u001b[0;34m(\u001b[0m\u001b[0;34m\"arrays must all be same length\"\u001b[0m\u001b[0;34m)\u001b[0m\u001b[0;34m\u001b[0m\u001b[0;34m\u001b[0m\u001b[0m\n\u001b[0m\u001b[1;32m    366\u001b[0m \u001b[0;34m\u001b[0m\u001b[0m\n\u001b[1;32m    367\u001b[0m             \u001b[0;32mif\u001b[0m \u001b[0mhave_dicts\u001b[0m\u001b[0;34m:\u001b[0m\u001b[0;34m\u001b[0m\u001b[0;34m\u001b[0m\u001b[0m\n",
      "\u001b[0;31mValueError\u001b[0m: arrays must all be same length"
     ]
    }
   ],
   "source": [
    "b = []\n",
    "st = []\n",
    "sl = []\n",
    "for block_ in list(df_block['BLOCKFACE_ID'].unique()):\n",
    "    for stage_ in range(7):\n",
    "        for slot_ in range(48):\n",
    "            b.append(block_)\n",
    "            st.append(stage_)\n",
    "            sl.append(slot_)\n",
    "fakedata = {'BLOCKFACE_ID':b,\n",
    "           'stage':st,\n",
    "           'slot':sl,\n",
    "           'mean':[0]*7*48*len(df_block['BLOCKFACE_ID'].unique()),\n",
    "           'std':[0]*7*48*len(df_block['BLOCKFACE_ID'].unique())}\n",
    "fakedf = pd.DataFrame(fakedata)"
   ]
  },
  {
   "cell_type": "code",
   "execution_count": null,
   "metadata": {},
   "outputs": [],
   "source": [
    "for_demand_agg = pd.concat([fakedf,for_demand[['BLOCKFACE_ID','stage','slot', 'mean','std']]])\n",
    "for_demand_agg = for_demand_agg.groupby(['BLOCKFACE_ID', 'stage', 'slot']).sum()\n",
    "for_demand_agg['std'] = for_demand_agg['std'].clip(lower=0.01)\n",
    "for_demand_agg = for_demand_agg.reset_index().sort_values(['BLOCKFACE_ID','stage','slot'])"
   ]
  },
  {
   "cell_type": "code",
   "execution_count": null,
   "metadata": {},
   "outputs": [],
   "source": [
    "for_demand_agg.describe()"
   ]
  },
  {
   "cell_type": "code",
   "execution_count": null,
   "metadata": {},
   "outputs": [],
   "source": [
    "for_demand_agg.to_csv('../../data/demand.csv', index=None)"
   ]
  },
  {
   "cell_type": "markdown",
   "metadata": {},
   "source": [
    "### Time to park"
   ]
  },
  {
   "cell_type": "code",
   "execution_count": 3,
   "metadata": {},
   "outputs": [],
   "source": [
    "df['dt_e'] = df['session_end_dt'].apply(lambda x: datetime.strptime(x[:19], '%Y-%m-%dT%H:%M:%S'))"
   ]
  },
  {
   "cell_type": "code",
   "execution_count": 9,
   "metadata": {},
   "outputs": [],
   "source": [
    "df['time_diff'] = df['dt_e'] - df['dt']"
   ]
  },
  {
   "cell_type": "code",
   "execution_count": 13,
   "metadata": {},
   "outputs": [
    {
     "data": {
      "text/plain": [
       "900.0"
      ]
     },
     "execution_count": 13,
     "metadata": {},
     "output_type": "execute_result"
    }
   ],
   "source": [
    "df['time_diff'][1].total_seconds()"
   ]
  },
  {
   "cell_type": "code",
   "execution_count": 15,
   "metadata": {},
   "outputs": [
    {
     "data": {
      "text/plain": [
       "BLOCKFACE_ID  stage                   slot\n",
       "102021        before                  8.5           00:49:51\n",
       "                                      9.0    01:01:34.611111\n",
       "                                      9.5    00:45:54.076923\n",
       "                                      10.0   00:58:48.652173\n",
       "                                      10.5   00:49:31.676470\n",
       "                                      11.0   00:51:24.444444\n",
       "                                      11.5   00:43:17.095238\n",
       "                                      12.0   00:49:44.125000\n",
       "                                      12.5   00:51:08.731707\n",
       "                                      13.0   01:01:05.419354\n",
       "                                      13.5   00:56:19.320000\n",
       "                                      14.0   00:53:38.200000\n",
       "                                      14.5   00:34:52.954545\n",
       "                                      15.0   00:46:58.484848\n",
       "                                      15.5   01:07:30.518518\n",
       "                                      16.0   00:57:38.652173\n",
       "                                      16.5   00:49:42.800000\n",
       "                                      17.0   00:52:06.888888\n",
       "                                      17.5   00:35:33.225806\n",
       "                                      18.0   00:21:07.800000\n",
       "              closed_due_to_state_re  7.5           03:37:49\n",
       "                                      8.0           03:13:45\n",
       "                                      9.0    01:01:53.750000\n",
       "                                      9.5    00:59:05.480000\n",
       "                                      10.0   00:52:26.350000\n",
       "                                      10.5   00:37:28.750000\n",
       "                                      11.0   00:49:49.739130\n",
       "                                      11.5   00:46:28.066666\n",
       "                                      12.0   00:45:44.384615\n",
       "                                      12.5   00:41:48.548387\n",
       "                                                   ...      \n",
       "878002        shutdown                20.0          01:00:00\n",
       "                                      20.5          01:00:00\n",
       "                                      21.0          01:00:00\n",
       "              yellow                  6.0    07:26:12.272727\n",
       "                                      6.5    07:34:15.040816\n",
       "                                      7.0    06:09:51.769230\n",
       "                                      7.5    06:26:25.129032\n",
       "                                      8.0    05:52:28.333333\n",
       "                                      8.5           06:02:17\n",
       "                                      9.0    02:32:19.923076\n",
       "                                      9.5    03:15:02.400000\n",
       "                                      10.0   01:42:02.444444\n",
       "                                      10.5   02:25:58.500000\n",
       "                                      11.0   02:10:34.500000\n",
       "                                      11.5   02:15:15.750000\n",
       "                                      12.0   01:40:02.750000\n",
       "                                      12.5   01:45:43.214285\n",
       "                                      13.0   01:12:18.869565\n",
       "                                      13.5   01:24:43.400000\n",
       "                                      14.0          01:29:12\n",
       "                                      14.5   01:43:34.666666\n",
       "                                      15.0   01:21:19.777777\n",
       "                                      15.5   01:17:01.727272\n",
       "                                      16.0   01:20:46.400000\n",
       "                                      16.5   01:13:42.857142\n",
       "                                      17.0          01:39:49\n",
       "                                      17.5   01:10:50.333333\n",
       "                                      18.0          01:57:00\n",
       "                                      19.0          02:54:00\n",
       "                                      21.0          01:30:00\n",
       "Name: time_diff, Length: 404186, dtype: timedelta64[ns]"
      ]
     },
     "execution_count": 15,
     "metadata": {},
     "output_type": "execute_result"
    }
   ],
   "source": [
    "df.groupby(['BLOCKFACE_ID', 'stage', 'slot'])['time_diff'].agg(lambda x: x.mean())"
   ]
  },
  {
   "cell_type": "markdown",
   "metadata": {},
   "source": [
    "### Naive time to park model"
   ]
  },
  {
   "cell_type": "code",
   "execution_count": 16,
   "metadata": {},
   "outputs": [],
   "source": [
    "mean_parking_time = df.groupby(['BLOCKFACE_ID'])['time_diff'].agg(lambda x: x.mean())"
   ]
  },
  {
   "cell_type": "code",
   "execution_count": 22,
   "metadata": {},
   "outputs": [
    {
     "name": "stderr",
     "output_type": "stream",
     "text": [
      "/Users/apple/.local/lib/python3.6/site-packages/IPython/core/interactiveshell.py:2785: DtypeWarning: Columns (28,30) have mixed types. Specify dtype option on import or set low_memory=False.\n",
      "  interactivity=interactivity, compiler=compiler, result=result)\n"
     ]
    }
   ],
   "source": [
    "meter = pd.read_csv('../../data/Meters/Parking_Meters.csv')"
   ]
  },
  {
   "cell_type": "code",
   "execution_count": 23,
   "metadata": {},
   "outputs": [
    {
     "data": {
      "text/html": [
       "<div>\n",
       "<style scoped>\n",
       "    .dataframe tbody tr th:only-of-type {\n",
       "        vertical-align: middle;\n",
       "    }\n",
       "\n",
       "    .dataframe tbody tr th {\n",
       "        vertical-align: top;\n",
       "    }\n",
       "\n",
       "    .dataframe thead th {\n",
       "        text-align: right;\n",
       "    }\n",
       "</style>\n",
       "<table border=\"1\" class=\"dataframe\">\n",
       "  <thead>\n",
       "    <tr style=\"text-align: right;\">\n",
       "      <th></th>\n",
       "      <th>OBJECTID</th>\n",
       "      <th>PARKING_SPACE_ID</th>\n",
       "      <th>POST_ID</th>\n",
       "      <th>MS_PAY_STATION_ID</th>\n",
       "      <th>MS_SPACE_NUM</th>\n",
       "      <th>SENSOR_FLAG</th>\n",
       "      <th>ON_OFFSTREET_TYPE</th>\n",
       "      <th>OSP_ID</th>\n",
       "      <th>JURISDICTION</th>\n",
       "      <th>PM_DISTRICT_ID</th>\n",
       "      <th>...</th>\n",
       "      <th>NFC_KEY</th>\n",
       "      <th>SPT_CODE</th>\n",
       "      <th>COLLECTION_ROUTE_DESC</th>\n",
       "      <th>COLLECTION_SUBROUTE_DESC</th>\n",
       "      <th>shape</th>\n",
       "      <th>Neighborhoods</th>\n",
       "      <th>SF Find Neighborhoods</th>\n",
       "      <th>Current Police Districts</th>\n",
       "      <th>Current Supervisor Districts</th>\n",
       "      <th>Analysis Neighborhoods</th>\n",
       "    </tr>\n",
       "  </thead>\n",
       "  <tbody>\n",
       "    <tr>\n",
       "      <th>0</th>\n",
       "      <td>33521</td>\n",
       "      <td>132627</td>\n",
       "      <td>818-01520</td>\n",
       "      <td>-</td>\n",
       "      <td>0</td>\n",
       "      <td>Y</td>\n",
       "      <td>ON</td>\n",
       "      <td>0</td>\n",
       "      <td>PORT</td>\n",
       "      <td>2</td>\n",
       "      <td>...</td>\n",
       "      <td>NaN</td>\n",
       "      <td>NaN</td>\n",
       "      <td>NaN</td>\n",
       "      <td>NaN</td>\n",
       "      <td>POINT (-122.389114 37.784286)</td>\n",
       "      <td>31</td>\n",
       "      <td>31</td>\n",
       "      <td>1</td>\n",
       "      <td>10</td>\n",
       "      <td>8</td>\n",
       "    </tr>\n",
       "    <tr>\n",
       "      <th>1</th>\n",
       "      <td>33670</td>\n",
       "      <td>131615</td>\n",
       "      <td>831-04060</td>\n",
       "      <td>-</td>\n",
       "      <td>0</td>\n",
       "      <td>Y</td>\n",
       "      <td>ON</td>\n",
       "      <td>0</td>\n",
       "      <td>PORT</td>\n",
       "      <td>2</td>\n",
       "      <td>...</td>\n",
       "      <td>NaN</td>\n",
       "      <td>NaN</td>\n",
       "      <td>NaN</td>\n",
       "      <td>NaN</td>\n",
       "      <td>POINT (-122.388504 37.789272)</td>\n",
       "      <td>30</td>\n",
       "      <td>30</td>\n",
       "      <td>1</td>\n",
       "      <td>10</td>\n",
       "      <td>8</td>\n",
       "    </tr>\n",
       "    <tr>\n",
       "      <th>2</th>\n",
       "      <td>33707</td>\n",
       "      <td>131649</td>\n",
       "      <td>561-02041</td>\n",
       "      <td>561-02040</td>\n",
       "      <td>1</td>\n",
       "      <td>N</td>\n",
       "      <td>ON</td>\n",
       "      <td>0</td>\n",
       "      <td>SFMTA</td>\n",
       "      <td>1</td>\n",
       "      <td>...</td>\n",
       "      <td>NaN</td>\n",
       "      <td>NaN</td>\n",
       "      <td>NaN</td>\n",
       "      <td>NaN</td>\n",
       "      <td>POINT (-122.39328 37.790424)</td>\n",
       "      <td>108</td>\n",
       "      <td>108</td>\n",
       "      <td>1</td>\n",
       "      <td>10</td>\n",
       "      <td>8</td>\n",
       "    </tr>\n",
       "    <tr>\n",
       "      <th>3</th>\n",
       "      <td>33848</td>\n",
       "      <td>132817</td>\n",
       "      <td>561-03160</td>\n",
       "      <td>-</td>\n",
       "      <td>0</td>\n",
       "      <td>N</td>\n",
       "      <td>ON</td>\n",
       "      <td>0</td>\n",
       "      <td>SFMTA</td>\n",
       "      <td>2</td>\n",
       "      <td>...</td>\n",
       "      <td>3SP5</td>\n",
       "      <td>NaN</td>\n",
       "      <td>NaN</td>\n",
       "      <td>NaN</td>\n",
       "      <td>POINT (-122.39142 37.788933)</td>\n",
       "      <td>30</td>\n",
       "      <td>30</td>\n",
       "      <td>1</td>\n",
       "      <td>10</td>\n",
       "      <td>8</td>\n",
       "    </tr>\n",
       "    <tr>\n",
       "      <th>4</th>\n",
       "      <td>33895</td>\n",
       "      <td>132860</td>\n",
       "      <td>658-01430</td>\n",
       "      <td>-</td>\n",
       "      <td>0</td>\n",
       "      <td>E</td>\n",
       "      <td>ON</td>\n",
       "      <td>0</td>\n",
       "      <td>SFMTA</td>\n",
       "      <td>1</td>\n",
       "      <td>...</td>\n",
       "      <td>4RJ4</td>\n",
       "      <td>NaN</td>\n",
       "      <td>Folsom St: Unit-800 1st:</td>\n",
       "      <td>Spear Unit-300</td>\n",
       "      <td>POINT (-122.39334 37.792076)</td>\n",
       "      <td>108</td>\n",
       "      <td>108</td>\n",
       "      <td>1</td>\n",
       "      <td>10</td>\n",
       "      <td>8</td>\n",
       "    </tr>\n",
       "  </tbody>\n",
       "</table>\n",
       "<p>5 rows × 45 columns</p>\n",
       "</div>"
      ],
      "text/plain": [
       "   OBJECTID  PARKING_SPACE_ID    POST_ID MS_PAY_STATION_ID  MS_SPACE_NUM  \\\n",
       "0     33521            132627  818-01520                 -             0   \n",
       "1     33670            131615  831-04060                 -             0   \n",
       "2     33707            131649  561-02041         561-02040             1   \n",
       "3     33848            132817  561-03160                 -             0   \n",
       "4     33895            132860  658-01430                 -             0   \n",
       "\n",
       "  SENSOR_FLAG ON_OFFSTREET_TYPE  OSP_ID JURISDICTION  PM_DISTRICT_ID  ...  \\\n",
       "0           Y                ON       0         PORT               2  ...   \n",
       "1           Y                ON       0         PORT               2  ...   \n",
       "2           N                ON       0        SFMTA               1  ...   \n",
       "3           N                ON       0        SFMTA               2  ...   \n",
       "4           E                ON       0        SFMTA               1  ...   \n",
       "\n",
       "   NFC_KEY SPT_CODE     COLLECTION_ROUTE_DESC COLLECTION_SUBROUTE_DESC  \\\n",
       "0      NaN      NaN                       NaN                      NaN   \n",
       "1      NaN      NaN                       NaN                      NaN   \n",
       "2      NaN      NaN                       NaN                      NaN   \n",
       "3     3SP5      NaN                       NaN                      NaN   \n",
       "4     4RJ4      NaN  Folsom St: Unit-800 1st:           Spear Unit-300   \n",
       "\n",
       "                           shape Neighborhoods SF Find Neighborhoods  \\\n",
       "0  POINT (-122.389114 37.784286)            31                    31   \n",
       "1  POINT (-122.388504 37.789272)            30                    30   \n",
       "2   POINT (-122.39328 37.790424)           108                   108   \n",
       "3   POINT (-122.39142 37.788933)            30                    30   \n",
       "4   POINT (-122.39334 37.792076)           108                   108   \n",
       "\n",
       "  Current Police Districts Current Supervisor Districts Analysis Neighborhoods  \n",
       "0                        1                           10                      8  \n",
       "1                        1                           10                      8  \n",
       "2                        1                           10                      8  \n",
       "3                        1                           10                      8  \n",
       "4                        1                           10                      8  \n",
       "\n",
       "[5 rows x 45 columns]"
      ]
     },
     "execution_count": 23,
     "metadata": {},
     "output_type": "execute_result"
    }
   ],
   "source": [
    "useful_meter_info = meter[['POST_ID', '']]"
   ]
  },
  {
   "cell_type": "code",
   "execution_count": 25,
   "metadata": {},
   "outputs": [
    {
     "data": {
      "text/plain": [
       "0           568-26250\n",
       "1           568-26250\n",
       "2           568-26250\n",
       "3           568-26250\n",
       "4           568-26250\n",
       "5           568-26250\n",
       "6           568-26250\n",
       "7           568-26250\n",
       "8           568-26250\n",
       "9           568-26250\n",
       "10          568-26250\n",
       "11          568-26250\n",
       "12          568-26250\n",
       "13          568-26250\n",
       "14          568-26250\n",
       "15          568-26250\n",
       "16          568-26250\n",
       "17          568-26250\n",
       "18          568-26250\n",
       "19          568-26250\n",
       "20          568-26250\n",
       "21          568-26250\n",
       "22          568-26250\n",
       "23          568-26250\n",
       "24          568-26250\n",
       "25          568-26250\n",
       "26          568-26250\n",
       "27          568-26250\n",
       "28          568-26250\n",
       "29          568-26250\n",
       "              ...    \n",
       "16958876    664-15210\n",
       "16958877    664-15210\n",
       "16958878    664-15210\n",
       "16958879    664-15210\n",
       "16958880    664-15210\n",
       "16958881    664-15210\n",
       "16958882    664-15210\n",
       "16958883    664-15210\n",
       "16958884    845-05180\n",
       "16958885    845-05180\n",
       "16958886    845-05180\n",
       "16958887    845-05180\n",
       "16958888    845-05180\n",
       "16958889    845-05180\n",
       "16958890    845-05180\n",
       "16958891    845-05180\n",
       "16958892    845-05180\n",
       "16958893    568-02158\n",
       "16958894    845-05340\n",
       "16958895    845-05340\n",
       "16958896    845-05310\n",
       "16958897    845-05310\n",
       "16958898    845-05310\n",
       "16958899    845-05310\n",
       "16958900    845-05310\n",
       "16958901    845-05310\n",
       "16958902    845-05310\n",
       "16958903    845-05310\n",
       "16958904    845-05310\n",
       "16958905    845-05310\n",
       "Name: post_id, Length: 16958906, dtype: object"
      ]
     },
     "execution_count": 25,
     "metadata": {},
     "output_type": "execute_result"
    }
   ],
   "source": [
    "df.post_id"
   ]
  },
  {
   "cell_type": "code",
   "execution_count": null,
   "metadata": {},
   "outputs": [],
   "source": []
  }
 ],
 "metadata": {
  "kernelspec": {
   "display_name": "Python 3",
   "language": "python",
   "name": "python3"
  },
  "language_info": {
   "codemirror_mode": {
    "name": "ipython",
    "version": 3
   },
   "file_extension": ".py",
   "mimetype": "text/x-python",
   "name": "python",
   "nbconvert_exporter": "python",
   "pygments_lexer": "ipython3",
   "version": "3.6.8"
  }
 },
 "nbformat": 4,
 "nbformat_minor": 2
}
